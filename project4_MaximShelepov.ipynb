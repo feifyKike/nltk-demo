{
 "cells": [
  {
   "cell_type": "markdown",
   "metadata": {},
   "source": [
    "# Natural Language Toolkit (NLTK)\n",
    "### Natural Language Processing with Python\n",
    "**Author**: Maxim Shelepov\n",
    "\n",
    "**Course**: CSC295\n",
    "\n",
    "**Date**: 04/23/24"
   ]
  },
  {
   "cell_type": "markdown",
   "metadata": {},
   "source": [
    "## Introduction\n",
    "\n",
    "### General Purpose\n",
    "> \"NLTK is a leading platform for building Python programs to work with human language data.\"\n",
    "> \n",
    "> \\- www.nltk.org\n",
    "\n",
    "**What is it for?** The package serves as a toolbox (i.e. in the form of functions, classes, and submodules) to clean, process, organize, and finally analyze linguistic data to its core [[1]](#references).\n",
    "\n",
    "**What does it have?** The package contains data cleaning and processing submodules tasked primarily with [[2]](#references):\n",
    "- Tokenization: restructuring text into tokens (words or sentences).\n",
    "- Filtering: removing grammatical words, also called \"stop words\".\n",
    "- Stemming and lemmatization: extracting base or root forms of a words to retain their essential meaning while removing unnecessary details.\n",
    "- Tagging: classifying words into their part-of-speech categories (i.e. noun, verb, adjective, etc).\n",
    "\n",
    "In terms of classification and analysis of text:\n",
    "- Ships with a pre-trained sentiment analysis model which can be used to analyze a given text on its positive, negative, or neutral linguistic quality.\n",
    "- Named-entity recognition for extracting known entities from text.\n",
    "\n",
    "Additional niceties:\n",
    "- Wrappers to popular scikitlearn classifiers (NaiveBayes, SVM, Linear Reg., etc).\n",
    "- Graph and tree visualizations of linguistic data.\n",
    "\n",
    "For everything that the NLTK package offers check the [nltk module index page](https://www.nltk.org/py-modindex.html).\n",
    "\n",
    "### Created\n",
    "2001 in the Department of Computer and Information Science at University of Pennsylvania. [Read more about it](https://www.nltk.org/book_1ed/ch00.html#:~:text=NLTK%20was%20originally%20created%20in,help%20of%20dozens%20of%20contributors.).\n",
    "\n",
    "### Current Version\n",
    "\n",
    "#### 3.8.1 (Jan 02, 2023)\n",
    "The version is consistent with the most updated version of the module on github and PyPi (The Python Package Index) where you can install it.\n",
    "- [PyPi installation instructions](https://pypi.org/project/nltk/).\n",
    "- [Package Github](https://github.com/nltk/nltk/tree/3.8.1).\n",
    "\n",
    "To install popular NLTK datasets and models check out https://www.nltk.org/install.html#installing-nltk-data.\n",
    "\n",
    "### Similar Packages\n",
    "While NLTK is most widely known and popular in the academic space, the spaCy natural language processing library is also another popular alternative for the industry. Coming in strong as a strong second, the package is faster and more optimized for specific tasks. The sPacy package also features the use of neural networks for training some of the models. It is also MIT licensed (open source) so you can integrate your own changes and customizations as a company engineer. Whereas NLTK has greater customization options, sPacy is simpler to use but less configurable. Other options are NLP toolkit, gensim, Pattern, and Polyglot [[3]](#references).\n",
    "\n",
    "### Package Companions\n",
    "The package contains wrappers for classifiers found in the [scikitlearn](https://scikit-learn.org/stable/) machine learning package. Also integrated well with the [Pandas data library](https://pandas.pydata.org). As mentioned in a previous section, the scikitlearn can be used to train the included sentiment analysis model or any other textual model you create. Pandas dataframes are useful for structuring the textual data.\n",
    "\n",
    "In the demonstration below the Selenium and BeautifulSoup4 packages are used to collect text information from the web and serve well as package companions.\n",
    "\n",
    "### Environment Requirements\n",
    "The NLTK module supports Python versions 3.7-3.11. The anaconda or python environment will suffice."
   ]
  },
  {
   "cell_type": "markdown",
   "metadata": {},
   "source": [
    "## Finding a dream internship with NLTK Demo\n",
    "#### Sections\n",
    "1. [Scrapping job posts from indeed.com.](#scrapping-jobs-from-indeed)\n",
    "2. [Analysis of job descriptions.](#analysis-of-job-descriptions)\n",
    "3. [Sentiment Analysis with VADER.](#sentiment-analysis)\n",
    "4. [Formatting and results to external file.](#recording-results)"
   ]
  },
  {
   "cell_type": "code",
   "execution_count": 59,
   "metadata": {},
   "outputs": [],
   "source": [
    "# import the package.\n",
    "import nltk"
   ]
  },
  {
   "cell_type": "code",
   "execution_count": null,
   "metadata": {},
   "outputs": [],
   "source": [
    "# download some general models and helpful lexical data.\n",
    "nltk.download([\"names\", \"stopwords\", \"vader_lexicon\", \"averaged_perceptron_tagger\", \"maxent_ne_chunker\", \"words\", \"punkt\", \"wordnet\"])"
   ]
  },
  {
   "cell_type": "markdown",
   "metadata": {},
   "source": [
    "### Scrapping jobs from indeed\n",
    "#### aka collecting natural language to analyze.\n",
    "Before beginning analysis, lets grab the top 10 hits matching the search result \"Data Science Intern\" on Indeed.com.\n",
    "\n",
    "For this step, we will use the popular [bs4](https://beautiful-soup-4.readthedocs.io/en/latest/) and [selenium](https://www.selenium.dev) scrapping and automation packages to help.\n",
    "\n",
    "*Note: Indeed.com is very good at blocking api scrapping requests, so have to use selenium.*"
   ]
  },
  {
   "cell_type": "code",
   "execution_count": 61,
   "metadata": {},
   "outputs": [],
   "source": [
    "# importing scrapping toolkit.\n",
    "from bs4 import BeautifulSoup as Bs4\n",
    "from selenium import webdriver\n",
    "from pprint import pprint"
   ]
  },
  {
   "cell_type": "code",
   "execution_count": 63,
   "metadata": {},
   "outputs": [
    {
     "name": "stdout",
     "output_type": "stream",
     "text": [
      "[{'description': '\\n'\n",
      "                 'Who are you?\\n'\n",
      "                 \" Simply put, you're a highly analytical thinker who's \"\n",
      "                 'passionate about travel and supporting local businesses. You '\n",
      "                 \"love discovering new places, and you're excited to join our \"\n",
      "                 'mission of supporting businesses globally through the power '\n",
      "                 \"of sharing. You're a bit of a food and drink aficionado, and \"\n",
      "                 \"you're ready to make an impact on a global scale by helping \"\n",
      "                 'to support our Data Science Org. Sound like you? Then read '\n",
      "                 \"on, friend, and let's get to it!\\n\"\n",
      "                 ' About the Role:\\n'\n",
      "                 ' Atmosfy is seeking a highly Data Science intern to work '\n",
      "                 'directly with the Data Science and Product Analytics team. '\n",
      "                 'This position will work closely with Growth Leads and '\n",
      "                 'Product Leads to analyze and optimize the user experience. '\n",
      "                 'Compensation:\\n'\n",
      "                 ' $40 - $50 per hour Responsibilities:\\n'\n",
      "                 \" What you'll be doing?\\n\"\n",
      "                 '\\n'\n",
      "                 '\\n'\n",
      "                 ' As an intern, you will be expected to be hands-on and '\n",
      "                 'routinely exercise independent judgment in delivering new '\n",
      "                 'Data Science/Machine Learning insights\\n'\n",
      "                 ' Work closely with product management to understand product '\n",
      "                 'vision and user engagement strategy\\n'\n",
      "                 ' Work with Software Engineers to deliver on the Data Science '\n",
      "                 'Roadmap in a fast-paced environment\\n'\n",
      "                 ' Balance the business needs with technical constraints by '\n",
      "                 'building deep subject matter expertise for your area\\n'\n",
      "                 \" Maintain the team's focus on strategy and goal-oriented \"\n",
      "                 'results when tackling complex problems\\n'\n",
      "                 ' Provide regular updates about program progress, issues, and '\n",
      "                 'risks to key stakeholders\\n'\n",
      "                 ' Comfortable with hands-on, day-to-day problem solving, '\n",
      "                 'implementing quick and effective action plans to meet '\n",
      "                 'short-term priorities and emerging opportunities\\n'\n",
      "                 '\\n'\n",
      "                 ' Qualifications:\\n'\n",
      "                 \" What we're looking for?\\n\"\n",
      "                 '\\n'\n",
      "                 '\\n'\n",
      "                 ' Passion for data science and delivering data-driven '\n",
      "                 'outcomes\\n'\n",
      "                 ' Strong analytical and problem-solving skills\\n'\n",
      "                 ' Understanding of Machine Learning concepts and tools\\n'\n",
      "                 ' Hands-on technical skills with the inquisitiveness to learn '\n",
      "                 'products, work with them, and provide recommendations to '\n",
      "                 'drive continuous improvement\\n'\n",
      "                 ' Able to work independently yet collaborate '\n",
      "                 'cross-functionally in a global and multicultural '\n",
      "                 'environment\\n'\n",
      "                 ' Comfortable and effective working in new areas that require '\n",
      "                 'experimentation and rapid problem-solving\\n'\n",
      "                 ' Knowledge of the Atmosfy Brand\\n'\n",
      "                 '\\n'\n",
      "                 ' About Company\\n'\n",
      "                 \" We are Atmosfy App, Inc. We're the fastest-growing platform \"\n",
      "                 'globally for live video of dining, nightlife, & travel. We '\n",
      "                 'help support local businesses globally by enabling creators '\n",
      "                 'to share their experiences.\\n'\n",
      "                 '\\n'\n",
      "                 ' We help people in over 150 countries and 10K+ cities '\n",
      "                 \"discover the world's best experiences through video. \"\n",
      "                 'Exciting a global audience with mouth-watering videos of '\n",
      "                 'maple syrup dripping off chicken & waffles, FOMO-inducing '\n",
      "                 'nightclubs, or skydiving in Rio is hard work.\\n'\n",
      "                 '\\n'\n",
      "                 \" That's why we employ the industry's most creative, \"\n",
      "                 'passionate people. Help us revolutionize how people discover '\n",
      "                 'experiences. Our team draws on talented people who have '\n",
      "                 'worked at best-in-class tech and entertainment companies.\\n'\n",
      "                 '\\n'\n",
      "                 ' Check us out on atmosfy.io to learn about our mission to '\n",
      "                 'share experiences, inspire others, and support local.\\n',\n",
      "  'title': 'Data Science Intern'},\n",
      " {'description': '\\n'\n",
      "                 'Company Description\\n'\n",
      "                 ' Founded in 2013, Tidepool is a 501(c)3 nonprofit '\n",
      "                 'organization dedicated to making diabetes data more '\n",
      "                 'accessible, actionable, and meaningful for people with '\n",
      "                 'diabetes, their care teams, and researchers. Tidepool Loop '\n",
      "                 'is a project to build and support an FDA-regulated version '\n",
      "                 'of Loop, to be available in the iOS App Store, intended to '\n",
      "                 'work with commercially available insulin pumps and CGMs. '\n",
      "                 'Tidepool Loop is not currently available for use. Job '\n",
      "                 'Description\\n'\n",
      "                 ' Please note that due to the nature of this role and its '\n",
      "                 'requirements, candidates must be geographically located in '\n",
      "                 'the United States, and authorized to work.  We are looking '\n",
      "                 'for an enthusiastic and highly motivated Data Science Intern '\n",
      "                 'to join our team. Data Science Interns at Tidepool partner '\n",
      "                 'closely with cross-functional team members from Software '\n",
      "                 'Engineering and Quality Assurance, and more.\\n'\n",
      "                 ' As a Data Science Intern at Tidepool, you will be embedded '\n",
      "                 'in a team working on novel biotechnology projects that will '\n",
      "                 'ship out to our users and clinical partners. You will work '\n",
      "                 'on research projects with real impact, taking ideas from '\n",
      "                 'conception through execution. Qualifications\\n'\n",
      "                 ' Essential Duties and Responsibilities:\\n'\n",
      "                 '\\n'\n",
      "                 ' Work on the next generation of automatic insulin delivery '\n",
      "                 '(AID) algorithms.\\n'\n",
      "                 ' Develop well-crafted, rigorous, and clear data science '\n",
      "                 'analysis.\\n'\n",
      "                 ' Stay up to date with the literature on diabetes '\n",
      "                 'technologies.\\n'\n",
      "                 ' Present and discuss journal articles.\\n'\n",
      "                 ' Work directly with data scientists, QA engineers, and other '\n",
      "                 'developers.\\n'\n",
      "                 '\\n'\n",
      "                 ' Qualifications:\\n'\n",
      "                 '\\n'\n",
      "                 ' Experience with python required, experience with MATLAB '\n",
      "                 'would be a bonus.\\n'\n",
      "                 ' A strong foundation in one or more of the following would '\n",
      "                 'be a significant plus:\\n'\n",
      "                 '   \\n'\n",
      "                 ' Differential equations and numerical integration methods.\\n'\n",
      "                 ' Biology/physiology.\\n'\n",
      "                 ' Control theory (PID, MPC, etc.).\\n'\n",
      "                 ' Machine learning.\\n'\n",
      "                 '\\n'\n",
      "                 ' Familiarity with version control. We use GitHub.\\n'\n",
      "                 ' Awareness of general coding best practices, documentation, '\n",
      "                 'and testing.\\n'\n",
      "                 ' You are curious and enjoy exploring new domains of '\n",
      "                 'knowledge.\\n'\n",
      "                 ' You are intrinsically motivated.\\n'\n",
      "                 ' You use your own judgment to move work forward and to seek '\n",
      "                 'guidance when needed.\\n'\n",
      "                 '\\n'\n",
      "                 '  Additional Information\\n'\n",
      "                 ' What you’ll receive:\\n'\n",
      "                 '\\n'\n",
      "                 ' Full-time paid internship. Salary range is $20-$40/hour.\\n'\n",
      "                 ' Guidance from a mentor.\\n'\n",
      "                 ' Freedom to work from anywhere within the United States.\\n'\n",
      "                 '\\n'\n",
      "                 ' While many of Tidepool’s team members have a personal '\n",
      "                 'connection to diabetes, this is not a requirement. We ask '\n",
      "                 'that you have empathy for chronic conditions and you are '\n",
      "                 'prepared to learn about the diabetes experience.\\n'\n",
      "                 ' This is a remote position. You’ll be working from home and '\n",
      "                 'interacting with a team of colleagues that works around the '\n",
      "                 'world. Learn more about working at Tidepool, including our '\n",
      "                 'approach to inclusion and diversity in this blog post and '\n",
      "                 \"visit Tidepool's Employee Handbook.\\n\"\n",
      "                 ' Does this sound like you? We’d love to hear from you!\\n'\n",
      "                 ' Tidepool is an Equal Opportunity Employer. The company '\n",
      "                 'supports diversity and inclusion in its core values and does '\n",
      "                 'not discriminate against qualified employees or applicants '\n",
      "                 'because of race, color, religion, gender identity, sex, '\n",
      "                 'sexual preference, sexual identity, pregnancy, national '\n",
      "                 'origin, ancestry, citizenship, age, marital status, physical '\n",
      "                 'disability, mental disability, medical condition, military '\n",
      "                 'status, or any other characteristic protected by U.S. '\n",
      "                 'federal or state law or local ordinance. When necessary, the '\n",
      "                 'company will reasonably accommodate employees and applicants '\n",
      "                 'with disabilities if the person is otherwise qualified to '\n",
      "                 'safely perform all of the essential functions of the '\n",
      "                 'position.\\n',\n",
      "  'title': 'Data Science Intern'},\n",
      " {'description': '\\n'\n",
      "                 '\\n'\n",
      "                 '2024 Summer Internship\\n'\n",
      "                 '\\n'\n",
      "                 ' Location:\\n'\n",
      "                 ' This role is scheduled to be 100% remote. While remote, '\n",
      "                 'finalists MUST reside in one of the following states to be '\n",
      "                 'eligible for employment with Kaiser Permanente: CA, OR, WA, '\n",
      "                 'HI, CO, GA, MD, VA, CT, DC, or IL.\\n'\n",
      "                 '\\n'\n",
      "                 ' Department Description:\\n'\n",
      "                 ' KP Insight sits within the Finance organization and our '\n",
      "                 'specific team is part of a larger group that does advanced '\n",
      "                 'analytics for care delivery.\\n'\n",
      "                 '\\n'\n",
      "                 ' Internship Project(s):\\n'\n",
      "                 ' KP Insight is looking for dynamic and energetic data '\n",
      "                 'science / analytics professionals with experience in '\n",
      "                 'Pharmacy or Mental Health to support two burgeoning work '\n",
      "                 'streams.\\n'\n",
      "                 '\\n'\n",
      "                 ' Target Majors:\\n'\n",
      "                 ' Computer Science; Math/Statistics; Public Health; Data '\n",
      "                 'Science\\n'\n",
      "                 '\\n'\n",
      "                 ' Target Skills:\\n'\n",
      "                 ' In the Pharmacy and Total Cost of Care work, we are looking '\n",
      "                 'for a Data Scientist that has extensive experience using '\n",
      "                 'machine learning and AI to solve problems. Experience is '\n",
      "                 'absolutely required but can be solely academic if the '\n",
      "                 'candidate stands out in other ways.\\n'\n",
      "                 ' Job Summary:\\n'\n",
      "                 '\\n'\n",
      "                 ' Lay the groundwork for a dynamic future with an industry '\n",
      "                 \"leader. At Kaiser Permanente, you'll forge lasting \"\n",
      "                 'relationships with colleagues across the organization while '\n",
      "                 'enjoying the opportunity to grow your experience and hone '\n",
      "                 'your expertise on assignments that have real impact. Our '\n",
      "                 'interns have worked on everything from analyzing financial '\n",
      "                 'software and developing new marketing strategies, to '\n",
      "                 'designing mobile apps and helping clinicians improve care '\n",
      "                 'delivery. We want you to get the most out of your time here '\n",
      "                 'and will give you projects that challenge you to think '\n",
      "                 'freely, question thoroughly, and explore deeply.\\n'\n",
      "                 '\\n'\n",
      "                 ' Essential Responsibilities:\\n'\n",
      "                 '\\n'\n",
      "                 '\\n'\n",
      "                 '\\n'\n",
      "                 ' Contributing to a designated project or initiative to meet '\n",
      "                 'a KP business objective.\\n'\n",
      "                 ' Report development and analytics.\\n'\n",
      "                 ' Project management - planning, execution, and measurement.\\n'\n",
      "                 ' Learning new applications needed to complete assignments or '\n",
      "                 'support the execution of business objectives.\\n'\n",
      "                 ' Job shadowing in other functional areas.\\n'\n",
      "                 ' Performing additional duties as required.\\n'\n",
      "                 '\\n'\n",
      "                 '\\n'\n",
      "                 ' Basic Qualifications:\\n'\n",
      "                 '\\n'\n",
      "                 '\\n'\n",
      "                 '  Experience\\n'\n",
      "                 ' \\n'\n",
      "                 '\\n'\n",
      "                 '\\n'\n",
      "                 '\\n'\n",
      "                 'N/A\\n'\n",
      "                 '\\n'\n",
      "                 '\\n'\n",
      "                 ' Education\\n'\n",
      "                 ' \\n'\n",
      "                 '\\n'\n",
      "                 '\\n'\n",
      "                 '\\n'\n",
      "                 'Pursuing a graduate degree or have completed a graduate '\n",
      "                 'program from an accredited university within the last year.\\n'\n",
      "                 ' Bachelors degree required.\\n'\n",
      "                 '\\n'\n",
      "                 '\\n'\n",
      "                 '   License, Certification, Registration\\n'\n",
      "                 ' \\n'\n",
      "                 '\\n'\n",
      "                 'N/A\\n'\n",
      "                 '\\n'\n",
      "                 ' Additional Requirements:\\n'\n",
      "                 '\\n'\n",
      "                 '\\n'\n",
      "                 '\\n'\n",
      "                 ' Aptitude to perform data and process analytics and '\n",
      "                 'formulating solutions.\\n'\n",
      "                 ' Working knowledge of MS Word, Excel, PowerPoint.\\n'\n",
      "                 '\\n'\n",
      "                 ' Preferred Qualifications:\\n'\n",
      "                 '\\n'\n",
      "                 '\\n'\n",
      "                 '\\n'\n",
      "                 '\\n'\n",
      "                 '3.0 GPA or above\\n'\n",
      "                 ' Advanced analytical and problem-solving skills\\n'\n",
      "                 ' Proven ability to build effective working relationships as '\n",
      "                 'well as strong interpersonal skills\\n'\n",
      "                 ' Excellent verbal and written communication skills\\n'\n",
      "                 ' Ability to learn quickly and experience producing high '\n",
      "                 'quality work in short periods of time.\\n'\n",
      "                 '\\n'\n",
      "                 ' PrimaryLocation : California,Pleasanton,Pleasanton Tech '\n",
      "                 'Cntr Building A\\n'\n",
      "                 '  HoursPerWeek : 40\\n'\n",
      "                 '  Shift : Day\\n'\n",
      "                 '  Workdays : Mon, Tue, Wed, Thu, Fri\\n'\n",
      "                 '  WorkingHoursStart : 09:00 AM\\n'\n",
      "                 '  WorkingHoursEnd : 05:00 PM\\n'\n",
      "                 '  Job Schedule : Full-time\\n'\n",
      "                 '  Job Type : Internship\\n'\n",
      "                 '  Employee Status : Regular\\n'\n",
      "                 '  Employee Group/Union Affiliation : NUE-PO-02|NUE|Non Union '\n",
      "                 'Employee\\n'\n",
      "                 '  Job Level : Entry Level\\n'\n",
      "                 '  Job Category : Data Analytics,Internships\\n'\n",
      "                 '  Department : KP Insight HQAA\\n'\n",
      "                 '  Travel : No\\n'\n",
      "                 '  Kaiser Permanente is an equal opportunity employer '\n",
      "                 'committed to a diverse and inclusive workforce. Applicants '\n",
      "                 'will receive consideration for employment without regard to '\n",
      "                 'race, color, religion, sex (including pregnancy), age, '\n",
      "                 'sexual orientation, national origin, marital status, '\n",
      "                 'parental status, ancestry, disability, gender identity, '\n",
      "                 'veteran status, genetic information, other distinguishing '\n",
      "                 'characteristics of diversity and inclusion, or any other '\n",
      "                 'protected status.\\n',\n",
      "  'title': \"Data Scientist Master's Intern\"}]\n"
     ]
    }
   ],
   "source": [
    "# Using some web scraping to gather the top x results.\n",
    "\n",
    "TOP_HITS = 10\n",
    "\n",
    "# General page.\n",
    "# https://www.indeed.com/jobs?q=data+scientist+intern&l=North+Carolina&vjk=2dc40f5c7b8b8c33\n",
    "base_url = \"https://www.indeed.com\"\n",
    "jobs_path = \"jobs\"\n",
    "search_q = \"data+scientist+intern\"\n",
    "loc_q = \"North+Carolina\"\n",
    "\n",
    "# Single page.\n",
    "# https://www.indeed.com/viewjob?jk=2dc40f5c7b8b8c33\n",
    "single_job_path = \"viewjob\"\n",
    "\n",
    "# Trying something else with selenium via browser.\n",
    "driver = webdriver.Safari()\n",
    "driver.get(f\"{base_url}/{jobs_path}?q={search_q}&l={loc_q}/headers\")\n",
    "with open(\"indeed_jobs.html\", \"w\") as outfile:\n",
    "    outfile.write(driver.page_source)\n",
    "\n",
    "# Reading content.\n",
    "with open(\"indeed_jobs.html\", \"r\") as infile:\n",
    "    html_text = infile.read()\n",
    "\n",
    "html_parser = Bs4(html_text, \"html.parser\")\n",
    "job_cards = html_parser.find(id=\"mosaic-provider-jobcards\").find(\"ul\").find_all(\"li\", class_=\"eu4oa1w0\", limit=TOP_HITS + 1)\n",
    "\n",
    "jobs_data = []\n",
    "for jc in job_cards:\n",
    "    if jc != None and jc.a != None:\n",
    "        key = jc.a[\"data-jk\"]\n",
    "        driver.get(f\"{base_url}/{single_job_path}?jk={key}\")\n",
    "        job_source = driver.page_source\n",
    "\n",
    "        job_parser = Bs4(job_source, \"html.parser\")\n",
    "        jobs_data.append({\n",
    "            \"title\": job_parser.find(\"h1\", class_=\"jobsearch-JobInfoHeader-title\").get_text(),\n",
    "            \"description\": job_parser.find(\"div\", id=\"jobDescriptionText\").get_text(),\n",
    "        })\n",
    "\n",
    "driver.close()\n",
    "\n",
    "pprint(jobs_data[:3])"
   ]
  },
  {
   "cell_type": "markdown",
   "metadata": {},
   "source": [
    "The job posts are stored in a list data structure which contains model-like dictionary objects ([MVC architecture](https://en.wikipedia.org/wiki/Model–view–controller)).\n",
    "Local directory file is used to store the html to reduce request to indeed."
   ]
  },
  {
   "cell_type": "markdown",
   "metadata": {},
   "source": [
    "### Analysis of job descriptions"
   ]
  },
  {
   "cell_type": "markdown",
   "metadata": {},
   "source": [
    "##### Step #1:\n",
    "Tokenize each job description to analyze at a more granular scale. The tokenization can either be \"by word\" or \"by sentence\". Still working with the job models in a list structure so will make an attribute to store the tokens."
   ]
  },
  {
   "cell_type": "code",
   "execution_count": 64,
   "metadata": {},
   "outputs": [
    {
     "data": {
      "text/plain": [
       "['Who', 'are', 'you', '?', 'Simply', 'put', ',', 'you', \"'re\", 'a']"
      ]
     },
     "execution_count": 64,
     "metadata": {},
     "output_type": "execute_result"
    }
   ],
   "source": [
    "# Tokenizing job descriptions.\n",
    "for job in jobs_data:\n",
    "    tokens = nltk.tokenize.word_tokenize(job['description'])\n",
    "    job['tokens'] = tokens\n",
    "\n",
    "jobs_data[0]['tokens'][:10] # showing only the first."
   ]
  },
  {
   "cell_type": "markdown",
   "metadata": {},
   "source": [
    "##### Step #2:\n",
    "Cleaning the text data by removing unnecessary tokens which only clutter the data pool. These words are contained in NLTK's stopword database which was downloaded in an earlier code block. Solo characters and non-alphanumeric character sequences were also removed."
   ]
  },
  {
   "cell_type": "code",
   "execution_count": 65,
   "metadata": {},
   "outputs": [
    {
     "data": {
      "text/plain": [
       "['Simply',\n",
       " 'put',\n",
       " 'highly',\n",
       " 'analytical',\n",
       " 'thinker',\n",
       " 'passionate',\n",
       " 'travel',\n",
       " 'supporting',\n",
       " 'local',\n",
       " 'businesses']"
      ]
     },
     "execution_count": 65,
     "metadata": {},
     "output_type": "execute_result"
    }
   ],
   "source": [
    "from nltk.corpus import stopwords\n",
    "\n",
    "# Cleaning.\n",
    "stop_words = set(stopwords.words(\"english\"))\n",
    "for job in jobs_data:\n",
    "    tokens = job['tokens']\n",
    "    job['relevant_tokens'] = [token for token in tokens if token.casefold() not in stop_words and token.isalnum() and len(token) > 1]\n",
    "\n",
    "jobs_data[0]['relevant_tokens'][:10]"
   ]
  },
  {
   "cell_type": "markdown",
   "metadata": {},
   "source": [
    "##### Step #3:\n",
    "Deconstructing words to their root meanings making it easier to compare to lexical databases and perform analysis overall. Remember string comparisons are case sensitive."
   ]
  },
  {
   "cell_type": "markdown",
   "metadata": {},
   "source": [
    "May notice an issue in this step. The lemmatization performs the token deconstruction only in the case of a word match with the \"word\" database downloaded previously. Most words in the job description remain unchanged, as can be seen below."
   ]
  },
  {
   "cell_type": "code",
   "execution_count": 66,
   "metadata": {},
   "outputs": [
    {
     "data": {
      "text/plain": [
       "['Simply',\n",
       " 'put',\n",
       " 'highly',\n",
       " 'analytical',\n",
       " 'thinker',\n",
       " 'passionate',\n",
       " 'travel',\n",
       " 'supporting',\n",
       " 'local',\n",
       " 'business']"
      ]
     },
     "execution_count": 66,
     "metadata": {},
     "output_type": "execute_result"
    }
   ],
   "source": [
    "from nltk.stem import WordNetLemmatizer\n",
    "\n",
    "# Lemmatization.\n",
    "lemmatizer = WordNetLemmatizer()\n",
    "\n",
    "for job in jobs_data:\n",
    "    job['lemmatized_tokens'] = [lemmatizer.lemmatize(token) for token in job['relevant_tokens']]\n",
    "\n",
    "jobs_data[0]['lemmatized_tokens'][:10]"
   ]
  },
  {
   "cell_type": "markdown",
   "metadata": {},
   "source": [
    "##### Step #4:\n",
    "Tagging each token (word) by their part-of-speech category to extract important terms in the form of nouns: qualifications, locations, skills, etc..."
   ]
  },
  {
   "cell_type": "code",
   "execution_count": 67,
   "metadata": {},
   "outputs": [
    {
     "data": {
      "text/plain": [
       "[('Simply', 'NNP'),\n",
       " ('put', 'VBD'),\n",
       " ('highly', 'RB'),\n",
       " ('analytical', 'JJ'),\n",
       " ('thinker', 'NN')]"
      ]
     },
     "execution_count": 67,
     "metadata": {},
     "output_type": "execute_result"
    }
   ],
   "source": [
    "# Part-of-speech tagging.\n",
    "\n",
    "for job in jobs_data:\n",
    "    job['tagged_tokens'] = nltk.pos_tag(job['lemmatized_tokens'])\n",
    "\n",
    "jobs_data[0]['tagged_tokens'][:5] # NN is a noun, NNP is a proper noun."
   ]
  },
  {
   "cell_type": "markdown",
   "metadata": {},
   "source": [
    "##### Step #5:\n",
    "Using NLTK's frequency distribution capabilities to find the most frequent words that match the \"NN\", \"VB\", \"JJ\" part-of-speech tags. In other words, finding the most frequent nouns, verbs, and adjectives."
   ]
  },
  {
   "cell_type": "code",
   "execution_count": 84,
   "metadata": {},
   "outputs": [
    {
     "name": "stdout",
     "output_type": "stream",
     "text": [
      "['work', 'experience', 'business', 'team', 'product']\n",
      "['drink', 'make', 'let', 'get', 'optimize']\n",
      "['local', 'new', 'global', 'analytical', 'user']\n"
     ]
    }
   ],
   "source": [
    "from nltk import FreqDist\n",
    "\n",
    "# Visualizing top nouns and their adjectives.\n",
    "for job in jobs_data:\n",
    "    nouns = [tag[0] for tag in job['tagged_tokens'] if tag[1] == \"NN\"]\n",
    "    verbs = [tag[0] for tag in job['tagged_tokens'] if tag[1] == \"VB\"]\n",
    "    adjectives = [tag[0] for tag in job['tagged_tokens'] if tag[1] == \"JJ\"]\n",
    "    freq_dist = FreqDist(nouns)\n",
    "    freq_dist2 = FreqDist(verbs)\n",
    "    freq_dist3 = FreqDist(adjectives)\n",
    "    job['frequent_nouns'] = [pair[0] for pair in freq_dist.most_common(20)]\n",
    "    job['frequent_verbs'] = [pair[0] for pair in freq_dist2.most_common(20)]\n",
    "    job['frequent_adjectives'] = [pair[0] for pair in freq_dist3.most_common(20)]\n",
    "\n",
    "print(jobs_data[0]['frequent_nouns'][:5])\n",
    "print(jobs_data[0]['frequent_verbs'][:5])\n",
    "print(jobs_data[0]['frequent_adjectives'][:5])"
   ]
  },
  {
   "cell_type": "markdown",
   "metadata": {},
   "source": [
    "##### Step #6:\n",
    "This step is just for additional insight to see how the most common nouns are distributed in the text. The dispersion plot plots the nouns on the y-axis and the offset from the beginning on the x-axis."
   ]
  },
  {
   "cell_type": "markdown",
   "metadata": {},
   "source": [
    "From the dispersion plot there seems to be no apparent concentration of most frequent words and they seem spread relatively uniformly."
   ]
  },
  {
   "cell_type": "code",
   "execution_count": 83,
   "metadata": {},
   "outputs": [
    {
     "data": {
      "image/png": "[encoded data removed]",
      "text/plain": [
       "<Figure size 432x288 with 1 Axes>"
      ]
     },
     "metadata": {
      "needs_background": "light"
     },
     "output_type": "display_data"
    },
    {
     "data": {
      "image/png": "[encoded data removed]",
      "text/plain": [
       "<Figure size 432x288 with 1 Axes>"
      ]
     },
     "metadata": {
      "needs_background": "light"
     },
     "output_type": "display_data"
    },
    {
     "data": {
      "image/png": "[encoded data removed]",
      "text/plain": [
       "<Figure size 432x288 with 1 Axes>"
      ]
     },
     "metadata": {
      "needs_background": "light"
     },
     "output_type": "display_data"
    }
   ],
   "source": [
    "# Dispersion plot for top nouns in the first 3 jobs.\n",
    "for job in jobs_data[:3]:\n",
    "    # dispersion of top 3 nouns.\n",
    "    text = nltk.Text(job['relevant_tokens']) # converting to your corpus.\n",
    "    text.dispersion_plot(job['frequent_nouns'])"
   ]
  },
  {
   "cell_type": "markdown",
   "metadata": {},
   "source": [
    "##### Step #7:\n",
    "This is another visualization step, not necessarily for recording results, but mostly for analysis. Here the intersectional relationship between the most frequent nouns, verbs, and adjectives is displayed in tree form [[4]](#references)."
   ]
  },
  {
   "cell_type": "markdown",
   "metadata": {},
   "source": [
    "The tree is wide, so scroll horizontally on the figure to see the center and far right side of the tree."
   ]
  },
  {
   "cell_type": "code",
   "execution_count": 70,
   "metadata": {},
   "outputs": [
    {
     "data": {
      "image/svg+xml": [
       "<svg baseProfile=\"full\" height=\"168px\" preserveAspectRatio=\"xMidYMid meet\" style=\"font-family: times, serif; font-weight: normal; font-style: normal; font-size: 16px;\" version=\"1.1\" viewBox=\"0,0,6328.0,168.0\" width=\"6328px\" xmlns=\"http://www.w3.org/2000/svg\" xmlns:ev=\"http://www.w3.org/2001/xml-events\" xmlns:xlink=\"http://www.w3.org/1999/xlink\"><defs /><svg width=\"100%\" x=\"0\" y=\"0px\"><defs /><text text-anchor=\"middle\" x=\"50%\" y=\"16px\">S</text></svg><svg width=\"2.65487%\" x=\"0%\" y=\"48px\"><defs /><svg width=\"100%\" x=\"0\" y=\"0px\"><defs /><text text-anchor=\"middle\" x=\"50%\" y=\"16px\">Chunk</text></svg><svg width=\"57.1429%\" x=\"0%\" y=\"48px\"><defs /><svg width=\"100%\" x=\"0\" y=\"0px\"><defs /><text text-anchor=\"middle\" x=\"50%\" y=\"16px\">analytical</text></svg><svg width=\"100%\" x=\"0%\" y=\"48px\"><defs /><svg width=\"100%\" x=\"0\" y=\"0px\"><defs /><text text-anchor=\"middle\" x=\"50%\" y=\"16px\">JJ</text></svg></svg><line stroke=\"black\" x1=\"50%\" x2=\"50%\" y1=\"19.2px\" y2=\"48px\" /></svg><line stroke=\"black\" x1=\"50%\" x2=\"28.5714%\" y1=\"19.2px\" y2=\"48px\" /><svg width=\"42.8571%\" x=\"57.1429%\" y=\"48px\"><defs /><svg width=\"100%\" x=\"0\" y=\"0px\"><defs /><text text-anchor=\"middle\" x=\"50%\" y=\"16px\">thinker</text></svg><svg width=\"100%\" x=\"0%\" y=\"48px\"><defs /><svg width=\"100%\" x=\"0\" y=\"0px\"><defs /><text text-anchor=\"middle\" x=\"50%\" y=\"16px\">NN</text></svg></svg><line stroke=\"black\" x1=\"50%\" x2=\"50%\" y1=\"19.2px\" y2=\"48px\" /></svg><line stroke=\"black\" x1=\"50%\" x2=\"78.5714%\" y1=\"19.2px\" y2=\"48px\" /></svg><line stroke=\"black\" x1=\"50%\" x2=\"1.32743%\" y1=\"19.2px\" y2=\"48px\" /><svg width=\"1.51707%\" x=\"2.65487%\" y=\"48px\"><defs /><svg width=\"100%\" x=\"0\" y=\"0px\"><defs /><text text-anchor=\"middle\" x=\"50%\" y=\"16px\">Chunk</text></svg><svg width=\"100%\" x=\"0%\" y=\"48px\"><defs /><svg width=\"100%\" x=\"0\" y=\"0px\"><defs /><text text-anchor=\"middle\" x=\"50%\" y=\"16px\">passionate</text></svg><svg width=\"100%\" x=\"0%\" y=\"48px\"><defs /><svg width=\"100%\" x=\"0\" y=\"0px\"><defs /><text text-anchor=\"middle\" x=\"50%\" y=\"16px\">NN</text></svg></svg><line stroke=\"black\" x1=\"50%\" x2=\"50%\" y1=\"19.2px\" y2=\"48px\" /></svg><line stroke=\"black\" x1=\"50%\" x2=\"50%\" y1=\"19.2px\" y2=\"48px\" /></svg><line stroke=\"black\" x1=\"50%\" x2=\"3.4134%\" y1=\"19.2px\" y2=\"48px\" /><svg width=\"1.01138%\" x=\"4.17193%\" y=\"48px\"><defs /><svg width=\"100%\" x=\"0\" y=\"0px\"><defs /><text text-anchor=\"middle\" x=\"50%\" y=\"16px\">Chunk</text></svg><svg width=\"100%\" x=\"0%\" y=\"48px\"><defs /><svg width=\"100%\" x=\"0\" y=\"0px\"><defs /><text text-anchor=\"middle\" x=\"50%\" y=\"16px\">travel</text></svg><svg width=\"100%\" x=\"0%\" y=\"48px\"><defs /><svg width=\"100%\" x=\"0\" y=\"0px\"><defs /><text text-anchor=\"middle\" x=\"50%\" y=\"16px\">NN</text></svg></svg><line stroke=\"black\" x1=\"50%\" x2=\"50%\" y1=\"19.2px\" y2=\"48px\" /></svg><line stroke=\"black\" x1=\"50%\" x2=\"50%\" y1=\"19.2px\" y2=\"48px\" /></svg><line stroke=\"black\" x1=\"50%\" x2=\"4.67762%\" y1=\"19.2px\" y2=\"48px\" /><svg width=\"2.14918%\" x=\"5.18331%\" y=\"48px\"><defs /><svg width=\"100%\" x=\"0\" y=\"0px\"><defs /><text text-anchor=\"middle\" x=\"50%\" y=\"16px\">Chunk</text></svg><svg width=\"41.1765%\" x=\"0%\" y=\"48px\"><defs /><svg width=\"100%\" x=\"0\" y=\"0px\"><defs /><text text-anchor=\"middle\" x=\"50%\" y=\"16px\">local</text></svg><svg width=\"100%\" x=\"0%\" y=\"48px\"><defs /><svg width=\"100%\" x=\"0\" y=\"0px\"><defs /><text text-anchor=\"middle\" x=\"50%\" y=\"16px\">JJ</text></svg></svg><line stroke=\"black\" x1=\"50%\" x2=\"50%\" y1=\"19.2px\" y2=\"48px\" /></svg><line stroke=\"black\" x1=\"50%\" x2=\"20.5882%\" y1=\"19.2px\" y2=\"48px\" /><svg width=\"58.8235%\" x=\"41.1765%\" y=\"48px\"><defs /><svg width=\"100%\" x=\"0\" y=\"0px\"><defs /><text text-anchor=\"middle\" x=\"50%\" y=\"16px\">business</text></svg><svg width=\"100%\" x=\"0%\" y=\"48px\"><defs /><svg width=\"100%\" x=\"0\" y=\"0px\"><defs /><text text-anchor=\"middle\" x=\"50%\" y=\"16px\">NN</text></svg></svg><line stroke=\"black\" x1=\"50%\" x2=\"50%\" y1=\"19.2px\" y2=\"48px\" /></svg><line stroke=\"black\" x1=\"50%\" x2=\"70.5882%\" y1=\"19.2px\" y2=\"48px\" /></svg><line stroke=\"black\" x1=\"50%\" x2=\"6.2579%\" y1=\"19.2px\" y2=\"48px\" /><svg width=\"1.51707%\" x=\"7.33249%\" y=\"48px\"><defs /><svg width=\"100%\" x=\"0\" y=\"0px\"><defs /><text text-anchor=\"middle\" x=\"50%\" y=\"16px\">Chunk</text></svg><svg width=\"41.6667%\" x=\"0%\" y=\"48px\"><defs /><svg width=\"100%\" x=\"0\" y=\"0px\"><defs /><text text-anchor=\"middle\" x=\"50%\" y=\"16px\">new</text></svg><svg width=\"100%\" x=\"0%\" y=\"48px\"><defs /><svg width=\"100%\" x=\"0\" y=\"0px\"><defs /><text text-anchor=\"middle\" x=\"50%\" y=\"16px\">JJ</text></svg></svg><line stroke=\"black\" x1=\"50%\" x2=\"50%\" y1=\"19.2px\" y2=\"48px\" /></svg><line stroke=\"black\" x1=\"50%\" x2=\"20.8333%\" y1=\"19.2px\" y2=\"48px\" /><svg width=\"58.3333%\" x=\"41.6667%\" y=\"48px\"><defs /><svg width=\"100%\" x=\"0\" y=\"0px\"><defs /><text text-anchor=\"middle\" x=\"50%\" y=\"16px\">place</text></svg><svg width=\"100%\" x=\"0%\" y=\"48px\"><defs /><svg width=\"100%\" x=\"0\" y=\"0px\"><defs /><text text-anchor=\"middle\" x=\"50%\" y=\"16px\">NN</text></svg></svg><line stroke=\"black\" x1=\"50%\" x2=\"50%\" y1=\"19.2px\" y2=\"48px\" /></svg><line stroke=\"black\" x1=\"50%\" x2=\"70.8333%\" y1=\"19.2px\" y2=\"48px\" /></svg><line stroke=\"black\" x1=\"50%\" x2=\"8.09102%\" y1=\"19.2px\" y2=\"48px\" /><svg width=\"1.89633%\" x=\"8.84956%\" y=\"48px\"><defs /><svg width=\"100%\" x=\"0\" y=\"0px\"><defs /><text text-anchor=\"middle\" x=\"50%\" y=\"16px\">Chunk</text></svg><svg width=\"40%\" x=\"0%\" y=\"48px\"><defs /><svg width=\"100%\" x=\"0\" y=\"0px\"><defs /><text text-anchor=\"middle\" x=\"50%\" y=\"16px\">join</text></svg><svg width=\"100%\" x=\"0%\" y=\"48px\"><defs /><svg width=\"100%\" x=\"0\" y=\"0px\"><defs /><text text-anchor=\"middle\" x=\"50%\" y=\"16px\">JJ</text></svg></svg><line stroke=\"black\" x1=\"50%\" x2=\"50%\" y1=\"19.2px\" y2=\"48px\" /></svg><line stroke=\"black\" x1=\"50%\" x2=\"20%\" y1=\"19.2px\" y2=\"48px\" /><svg width=\"60%\" x=\"40%\" y=\"48px\"><defs /><svg width=\"100%\" x=\"0\" y=\"0px\"><defs /><text text-anchor=\"middle\" x=\"50%\" y=\"16px\">mission</text></svg><svg width=\"100%\" x=\"0%\" y=\"48px\"><defs /><svg width=\"100%\" x=\"0\" y=\"0px\"><defs /><text text-anchor=\"middle\" x=\"50%\" y=\"16px\">NN</text></svg></svg><line stroke=\"black\" x1=\"50%\" x2=\"50%\" y1=\"19.2px\" y2=\"48px\" /></svg><line stroke=\"black\" x1=\"50%\" x2=\"70%\" y1=\"19.2px\" y2=\"48px\" /></svg><line stroke=\"black\" x1=\"50%\" x2=\"9.79772%\" y1=\"19.2px\" y2=\"48px\" /><svg width=\"1.26422%\" x=\"10.7459%\" y=\"48px\"><defs /><svg width=\"100%\" x=\"0\" y=\"0px\"><defs /><text text-anchor=\"middle\" x=\"50%\" y=\"16px\">Chunk</text></svg><svg width=\"100%\" x=\"0%\" y=\"48px\"><defs /><svg width=\"100%\" x=\"0\" y=\"0px\"><defs /><text text-anchor=\"middle\" x=\"50%\" y=\"16px\">business</text></svg><svg width=\"100%\" x=\"0%\" y=\"48px\"><defs /><svg width=\"100%\" x=\"0\" y=\"0px\"><defs /><text text-anchor=\"middle\" x=\"50%\" y=\"16px\">NN</text></svg></svg><line stroke=\"black\" x1=\"50%\" x2=\"50%\" y1=\"19.2px\" y2=\"48px\" /></svg><line stroke=\"black\" x1=\"50%\" x2=\"50%\" y1=\"19.2px\" y2=\"48px\" /></svg><line stroke=\"black\" x1=\"50%\" x2=\"11.378%\" y1=\"19.2px\" y2=\"48px\" /><svg width=\"0.884956%\" x=\"12.0101%\" y=\"48px\"><defs /><svg width=\"100%\" x=\"0\" y=\"0px\"><defs /><text text-anchor=\"middle\" x=\"50%\" y=\"16px\">Chunk</text></svg><svg width=\"100%\" x=\"0%\" y=\"48px\"><defs /><svg width=\"100%\" x=\"0\" y=\"0px\"><defs /><text text-anchor=\"middle\" x=\"50%\" y=\"16px\">power</text></svg><svg width=\"100%\" x=\"0%\" y=\"48px\"><defs /><svg width=\"100%\" x=\"0\" y=\"0px\"><defs /><text text-anchor=\"middle\" x=\"50%\" y=\"16px\">NN</text></svg></svg><line stroke=\"black\" x1=\"50%\" x2=\"50%\" y1=\"19.2px\" y2=\"48px\" /></svg><line stroke=\"black\" x1=\"50%\" x2=\"50%\" y1=\"19.2px\" y2=\"48px\" /></svg><line stroke=\"black\" x1=\"50%\" x2=\"12.4526%\" y1=\"19.2px\" y2=\"48px\" /><svg width=\"0.884956%\" x=\"12.8951%\" y=\"48px\"><defs /><svg width=\"100%\" x=\"0\" y=\"0px\"><defs /><text text-anchor=\"middle\" x=\"50%\" y=\"16px\">Chunk</text></svg><svg width=\"100%\" x=\"0%\" y=\"48px\"><defs /><svg width=\"100%\" x=\"0\" y=\"0px\"><defs /><text text-anchor=\"middle\" x=\"50%\" y=\"16px\">bit</text></svg><svg width=\"100%\" x=\"0%\" y=\"48px\"><defs /><svg width=\"100%\" x=\"0\" y=\"0px\"><defs /><text text-anchor=\"middle\" x=\"50%\" y=\"16px\">NN</text></svg></svg><line stroke=\"black\" x1=\"50%\" x2=\"50%\" y1=\"19.2px\" y2=\"48px\" /></svg><line stroke=\"black\" x1=\"50%\" x2=\"50%\" y1=\"19.2px\" y2=\"48px\" /></svg><line stroke=\"black\" x1=\"50%\" x2=\"13.3375%\" y1=\"19.2px\" y2=\"48px\" /><svg width=\"0.884956%\" x=\"13.78%\" y=\"48px\"><defs /><svg width=\"100%\" x=\"0\" y=\"0px\"><defs /><text text-anchor=\"middle\" x=\"50%\" y=\"16px\">drink</text></svg><svg width=\"100%\" x=\"0%\" y=\"48px\"><defs /><svg width=\"100%\" x=\"0\" y=\"0px\"><defs /><text text-anchor=\"middle\" x=\"50%\" y=\"16px\">VB</text></svg></svg><line stroke=\"black\" x1=\"50%\" x2=\"50%\" y1=\"19.2px\" y2=\"48px\" /></svg><line stroke=\"black\" x1=\"50%\" x2=\"14.2225%\" y1=\"19.2px\" y2=\"48px\" /><svg width=\"1.51707%\" x=\"14.665%\" y=\"48px\"><defs /><svg width=\"100%\" x=\"0\" y=\"0px\"><defs /><text text-anchor=\"middle\" x=\"50%\" y=\"16px\">aficionado</text></svg><svg width=\"100%\" x=\"0%\" y=\"48px\"><defs /><svg width=\"100%\" x=\"0\" y=\"0px\"><defs /><text text-anchor=\"middle\" x=\"50%\" y=\"16px\">JJ</text></svg></svg><line stroke=\"black\" x1=\"50%\" x2=\"50%\" y1=\"19.2px\" y2=\"48px\" /></svg><line stroke=\"black\" x1=\"50%\" x2=\"15.4235%\" y1=\"19.2px\" y2=\"48px\" /><svg width=\"0.884956%\" x=\"16.182%\" y=\"48px\"><defs /><svg width=\"100%\" x=\"0\" y=\"0px\"><defs /><text text-anchor=\"middle\" x=\"50%\" y=\"16px\">ready</text></svg><svg width=\"100%\" x=\"0%\" y=\"48px\"><defs /><svg width=\"100%\" x=\"0\" y=\"0px\"><defs /><text text-anchor=\"middle\" x=\"50%\" y=\"16px\">JJ</text></svg></svg><line stroke=\"black\" x1=\"50%\" x2=\"50%\" y1=\"19.2px\" y2=\"48px\" /></svg><line stroke=\"black\" x1=\"50%\" x2=\"16.6245%\" y1=\"19.2px\" y2=\"48px\" /><svg width=\"3.91909%\" x=\"17.067%\" y=\"48px\"><defs /><svg width=\"100%\" x=\"0\" y=\"0px\"><defs /><text text-anchor=\"middle\" x=\"50%\" y=\"16px\">Chunk</text></svg><svg width=\"19.3548%\" x=\"0%\" y=\"48px\"><defs /><svg width=\"100%\" x=\"0\" y=\"0px\"><defs /><text text-anchor=\"middle\" x=\"50%\" y=\"16px\">make</text></svg><svg width=\"100%\" x=\"0%\" y=\"48px\"><defs /><svg width=\"100%\" x=\"0\" y=\"0px\"><defs /><text text-anchor=\"middle\" x=\"50%\" y=\"16px\">VB</text></svg></svg><line stroke=\"black\" x1=\"50%\" x2=\"50%\" y1=\"19.2px\" y2=\"48px\" /></svg><line stroke=\"black\" x1=\"50%\" x2=\"9.67742%\" y1=\"19.2px\" y2=\"48px\" /><svg width=\"25.8065%\" x=\"19.3548%\" y=\"48px\"><defs /><svg width=\"100%\" x=\"0\" y=\"0px\"><defs /><text text-anchor=\"middle\" x=\"50%\" y=\"16px\">impact</text></svg><svg width=\"100%\" x=\"0%\" y=\"48px\"><defs /><svg width=\"100%\" x=\"0\" y=\"0px\"><defs /><text text-anchor=\"middle\" x=\"50%\" y=\"16px\">JJ</text></svg></svg><line stroke=\"black\" x1=\"50%\" x2=\"50%\" y1=\"19.2px\" y2=\"48px\" /></svg><line stroke=\"black\" x1=\"50%\" x2=\"32.2581%\" y1=\"19.2px\" y2=\"48px\" /><svg width=\"25.8065%\" x=\"45.1613%\" y=\"48px\"><defs /><svg width=\"100%\" x=\"0\" y=\"0px\"><defs /><text text-anchor=\"middle\" x=\"50%\" y=\"16px\">global</text></svg><svg width=\"100%\" x=\"0%\" y=\"48px\"><defs /><svg width=\"100%\" x=\"0\" y=\"0px\"><defs /><text text-anchor=\"middle\" x=\"50%\" y=\"16px\">JJ</text></svg></svg><line stroke=\"black\" x1=\"50%\" x2=\"50%\" y1=\"19.2px\" y2=\"48px\" /></svg><line stroke=\"black\" x1=\"50%\" x2=\"58.0645%\" y1=\"19.2px\" y2=\"48px\" /><svg width=\"29.0323%\" x=\"70.9677%\" y=\"48px\"><defs /><svg width=\"100%\" x=\"0\" y=\"0px\"><defs /><text text-anchor=\"middle\" x=\"50%\" y=\"16px\">support</text></svg><svg width=\"100%\" x=\"0%\" y=\"48px\"><defs /><svg width=\"100%\" x=\"0\" y=\"0px\"><defs /><text text-anchor=\"middle\" x=\"50%\" y=\"16px\">NN</text></svg></svg><line stroke=\"black\" x1=\"50%\" x2=\"50%\" y1=\"19.2px\" y2=\"48px\" /></svg><line stroke=\"black\" x1=\"50%\" x2=\"85.4839%\" y1=\"19.2px\" y2=\"48px\" /></svg><line stroke=\"black\" x1=\"50%\" x2=\"19.0265%\" y1=\"19.2px\" y2=\"48px\" /><svg width=\"3.03413%\" x=\"20.9861%\" y=\"48px\"><defs /><svg width=\"100%\" x=\"0\" y=\"0px\"><defs /><text text-anchor=\"middle\" x=\"50%\" y=\"16px\">Chunk</text></svg><svg width=\"20.8333%\" x=\"0%\" y=\"48px\"><defs /><svg width=\"100%\" x=\"0\" y=\"0px\"><defs /><text text-anchor=\"middle\" x=\"50%\" y=\"16px\">let</text></svg><svg width=\"100%\" x=\"0%\" y=\"48px\"><defs /><svg width=\"100%\" x=\"0\" y=\"0px\"><defs /><text text-anchor=\"middle\" x=\"50%\" y=\"16px\">VB</text></svg></svg><line stroke=\"black\" x1=\"50%\" x2=\"50%\" y1=\"19.2px\" y2=\"48px\" /></svg><line stroke=\"black\" x1=\"50%\" x2=\"10.4167%\" y1=\"19.2px\" y2=\"48px\" /><svg width=\"20.8333%\" x=\"20.8333%\" y=\"48px\"><defs /><svg width=\"100%\" x=\"0\" y=\"0px\"><defs /><text text-anchor=\"middle\" x=\"50%\" y=\"16px\">get</text></svg><svg width=\"100%\" x=\"0%\" y=\"48px\"><defs /><svg width=\"100%\" x=\"0\" y=\"0px\"><defs /><text text-anchor=\"middle\" x=\"50%\" y=\"16px\">VB</text></svg></svg><line stroke=\"black\" x1=\"50%\" x2=\"50%\" y1=\"19.2px\" y2=\"48px\" /></svg><line stroke=\"black\" x1=\"50%\" x2=\"31.25%\" y1=\"19.2px\" y2=\"48px\" /><svg width=\"33.3333%\" x=\"41.6667%\" y=\"48px\"><defs /><svg width=\"100%\" x=\"0\" y=\"0px\"><defs /><text text-anchor=\"middle\" x=\"50%\" y=\"16px\">intern</text></svg><svg width=\"100%\" x=\"0%\" y=\"48px\"><defs /><svg width=\"100%\" x=\"0\" y=\"0px\"><defs /><text text-anchor=\"middle\" x=\"50%\" y=\"16px\">JJ</text></svg></svg><line stroke=\"black\" x1=\"50%\" x2=\"50%\" y1=\"19.2px\" y2=\"48px\" /></svg><line stroke=\"black\" x1=\"50%\" x2=\"58.3333%\" y1=\"19.2px\" y2=\"48px\" /><svg width=\"25%\" x=\"75%\" y=\"48px\"><defs /><svg width=\"100%\" x=\"0\" y=\"0px\"><defs /><text text-anchor=\"middle\" x=\"50%\" y=\"16px\">work</text></svg><svg width=\"100%\" x=\"0%\" y=\"48px\"><defs /><svg width=\"100%\" x=\"0\" y=\"0px\"><defs /><text text-anchor=\"middle\" x=\"50%\" y=\"16px\">NN</text></svg></svg><line stroke=\"black\" x1=\"50%\" x2=\"50%\" y1=\"19.2px\" y2=\"48px\" /></svg><line stroke=\"black\" x1=\"50%\" x2=\"87.5%\" y1=\"19.2px\" y2=\"48px\" /></svg><line stroke=\"black\" x1=\"50%\" x2=\"22.5032%\" y1=\"19.2px\" y2=\"48px\" /><svg width=\"0.884956%\" x=\"24.0202%\" y=\"48px\"><defs /><svg width=\"100%\" x=\"0\" y=\"0px\"><defs /><text text-anchor=\"middle\" x=\"50%\" y=\"16px\">Chunk</text></svg><svg width=\"100%\" x=\"0%\" y=\"48px\"><defs /><svg width=\"100%\" x=\"0\" y=\"0px\"><defs /><text text-anchor=\"middle\" x=\"50%\" y=\"16px\">team</text></svg><svg width=\"100%\" x=\"0%\" y=\"48px\"><defs /><svg width=\"100%\" x=\"0\" y=\"0px\"><defs /><text text-anchor=\"middle\" x=\"50%\" y=\"16px\">NN</text></svg></svg><line stroke=\"black\" x1=\"50%\" x2=\"50%\" y1=\"19.2px\" y2=\"48px\" /></svg><line stroke=\"black\" x1=\"50%\" x2=\"50%\" y1=\"19.2px\" y2=\"48px\" /></svg><line stroke=\"black\" x1=\"50%\" x2=\"24.4627%\" y1=\"19.2px\" y2=\"48px\" /><svg width=\"0.884956%\" x=\"24.9052%\" y=\"48px\"><defs /><svg width=\"100%\" x=\"0\" y=\"0px\"><defs /><text text-anchor=\"middle\" x=\"50%\" y=\"16px\">Chunk</text></svg><svg width=\"100%\" x=\"0%\" y=\"48px\"><defs /><svg width=\"100%\" x=\"0\" y=\"0px\"><defs /><text text-anchor=\"middle\" x=\"50%\" y=\"16px\">work</text></svg><svg width=\"100%\" x=\"0%\" y=\"48px\"><defs /><svg width=\"100%\" x=\"0\" y=\"0px\"><defs /><text text-anchor=\"middle\" x=\"50%\" y=\"16px\">NN</text></svg></svg><line stroke=\"black\" x1=\"50%\" x2=\"50%\" y1=\"19.2px\" y2=\"48px\" /></svg><line stroke=\"black\" x1=\"50%\" x2=\"50%\" y1=\"19.2px\" y2=\"48px\" /></svg><line stroke=\"black\" x1=\"50%\" x2=\"25.3477%\" y1=\"19.2px\" y2=\"48px\" /><svg width=\"3.53982%\" x=\"25.7901%\" y=\"48px\"><defs /><svg width=\"100%\" x=\"0\" y=\"0px\"><defs /><text text-anchor=\"middle\" x=\"50%\" y=\"16px\">Chunk</text></svg><svg width=\"35.7143%\" x=\"0%\" y=\"48px\"><defs /><svg width=\"100%\" x=\"0\" y=\"0px\"><defs /><text text-anchor=\"middle\" x=\"50%\" y=\"16px\">optimize</text></svg><svg width=\"100%\" x=\"0%\" y=\"48px\"><defs /><svg width=\"100%\" x=\"0\" y=\"0px\"><defs /><text text-anchor=\"middle\" x=\"50%\" y=\"16px\">VB</text></svg></svg><line stroke=\"black\" x1=\"50%\" x2=\"50%\" y1=\"19.2px\" y2=\"48px\" /></svg><line stroke=\"black\" x1=\"50%\" x2=\"17.8571%\" y1=\"19.2px\" y2=\"48px\" /><svg width=\"21.4286%\" x=\"35.7143%\" y=\"48px\"><defs /><svg width=\"100%\" x=\"0\" y=\"0px\"><defs /><text text-anchor=\"middle\" x=\"50%\" y=\"16px\">user</text></svg><svg width=\"100%\" x=\"0%\" y=\"48px\"><defs /><svg width=\"100%\" x=\"0\" y=\"0px\"><defs /><text text-anchor=\"middle\" x=\"50%\" y=\"16px\">JJ</text></svg></svg><line stroke=\"black\" x1=\"50%\" x2=\"50%\" y1=\"19.2px\" y2=\"48px\" /></svg><line stroke=\"black\" x1=\"50%\" x2=\"46.4286%\" y1=\"19.2px\" y2=\"48px\" /><svg width=\"42.8571%\" x=\"57.1429%\" y=\"48px\"><defs /><svg width=\"100%\" x=\"0\" y=\"0px\"><defs /><text text-anchor=\"middle\" x=\"50%\" y=\"16px\">experience</text></svg><svg width=\"100%\" x=\"0%\" y=\"48px\"><defs /><svg width=\"100%\" x=\"0\" y=\"0px\"><defs /><text text-anchor=\"middle\" x=\"50%\" y=\"16px\">NN</text></svg></svg><line stroke=\"black\" x1=\"50%\" x2=\"50%\" y1=\"19.2px\" y2=\"48px\" /></svg><line stroke=\"black\" x1=\"50%\" x2=\"78.5714%\" y1=\"19.2px\" y2=\"48px\" /></svg><line stroke=\"black\" x1=\"50%\" x2=\"27.5601%\" y1=\"19.2px\" y2=\"48px\" /><svg width=\"1.01138%\" x=\"29.33%\" y=\"48px\"><defs /><svg width=\"100%\" x=\"0\" y=\"0px\"><defs /><text text-anchor=\"middle\" x=\"50%\" y=\"16px\">intern</text></svg><svg width=\"100%\" x=\"0%\" y=\"48px\"><defs /><svg width=\"100%\" x=\"0\" y=\"0px\"><defs /><text text-anchor=\"middle\" x=\"50%\" y=\"16px\">VBP</text></svg></svg><line stroke=\"black\" x1=\"50%\" x2=\"50%\" y1=\"19.2px\" y2=\"48px\" /></svg><line stroke=\"black\" x1=\"50%\" x2=\"29.8357%\" y1=\"19.2px\" y2=\"48px\" /><svg width=\"5.81542%\" x=\"30.3413%\" y=\"48px\"><defs /><svg width=\"100%\" x=\"0\" y=\"0px\"><defs /><text text-anchor=\"middle\" x=\"50%\" y=\"16px\">Chunk</text></svg><svg width=\"21.7391%\" x=\"0%\" y=\"48px\"><defs /><svg width=\"100%\" x=\"0\" y=\"0px\"><defs /><text text-anchor=\"middle\" x=\"50%\" y=\"16px\">exercise</text></svg><svg width=\"100%\" x=\"0%\" y=\"48px\"><defs /><svg width=\"100%\" x=\"0\" y=\"0px\"><defs /><text text-anchor=\"middle\" x=\"50%\" y=\"16px\">JJ</text></svg></svg><line stroke=\"black\" x1=\"50%\" x2=\"50%\" y1=\"19.2px\" y2=\"48px\" /></svg><line stroke=\"black\" x1=\"50%\" x2=\"10.8696%\" y1=\"19.2px\" y2=\"48px\" /><svg width=\"28.2609%\" x=\"21.7391%\" y=\"48px\"><defs /><svg width=\"100%\" x=\"0\" y=\"0px\"><defs /><text text-anchor=\"middle\" x=\"50%\" y=\"16px\">independent</text></svg><svg width=\"100%\" x=\"0%\" y=\"48px\"><defs /><svg width=\"100%\" x=\"0\" y=\"0px\"><defs /><text text-anchor=\"middle\" x=\"50%\" y=\"16px\">JJ</text></svg></svg><line stroke=\"black\" x1=\"50%\" x2=\"50%\" y1=\"19.2px\" y2=\"48px\" /></svg><line stroke=\"black\" x1=\"50%\" x2=\"35.8696%\" y1=\"19.2px\" y2=\"48px\" /><svg width=\"10.8696%\" x=\"50%\" y=\"48px\"><defs /><svg width=\"100%\" x=\"0\" y=\"0px\"><defs /><text text-anchor=\"middle\" x=\"50%\" y=\"16px\">new</text></svg><svg width=\"100%\" x=\"0%\" y=\"48px\"><defs /><svg width=\"100%\" x=\"0\" y=\"0px\"><defs /><text text-anchor=\"middle\" x=\"50%\" y=\"16px\">JJ</text></svg></svg><line stroke=\"black\" x1=\"50%\" x2=\"50%\" y1=\"19.2px\" y2=\"48px\" /></svg><line stroke=\"black\" x1=\"50%\" x2=\"55.4348%\" y1=\"19.2px\" y2=\"48px\" /><svg width=\"19.5652%\" x=\"60.8696%\" y=\"48px\"><defs /><svg width=\"100%\" x=\"0\" y=\"0px\"><defs /><text text-anchor=\"middle\" x=\"50%\" y=\"16px\">insight</text></svg><svg width=\"100%\" x=\"0%\" y=\"48px\"><defs /><svg width=\"100%\" x=\"0\" y=\"0px\"><defs /><text text-anchor=\"middle\" x=\"50%\" y=\"16px\">JJ</text></svg></svg><line stroke=\"black\" x1=\"50%\" x2=\"50%\" y1=\"19.2px\" y2=\"48px\" /></svg><line stroke=\"black\" x1=\"50%\" x2=\"70.6522%\" y1=\"19.2px\" y2=\"48px\" /><svg width=\"19.5652%\" x=\"80.4348%\" y=\"48px\"><defs /><svg width=\"100%\" x=\"0\" y=\"0px\"><defs /><text text-anchor=\"middle\" x=\"50%\" y=\"16px\">product</text></svg><svg width=\"100%\" x=\"0%\" y=\"48px\"><defs /><svg width=\"100%\" x=\"0\" y=\"0px\"><defs /><text text-anchor=\"middle\" x=\"50%\" y=\"16px\">NN</text></svg></svg><line stroke=\"black\" x1=\"50%\" x2=\"50%\" y1=\"19.2px\" y2=\"48px\" /></svg><line stroke=\"black\" x1=\"50%\" x2=\"90.2174%\" y1=\"19.2px\" y2=\"48px\" /></svg><line stroke=\"black\" x1=\"50%\" x2=\"33.2491%\" y1=\"19.2px\" y2=\"48px\" /><svg width=\"2.65487%\" x=\"36.1568%\" y=\"48px\"><defs /><svg width=\"100%\" x=\"0\" y=\"0px\"><defs /><text text-anchor=\"middle\" x=\"50%\" y=\"16px\">Chunk</text></svg><svg width=\"57.1429%\" x=\"0%\" y=\"48px\"><defs /><svg width=\"100%\" x=\"0\" y=\"0px\"><defs /><text text-anchor=\"middle\" x=\"50%\" y=\"16px\">understand</text></svg><svg width=\"100%\" x=\"0%\" y=\"48px\"><defs /><svg width=\"100%\" x=\"0\" y=\"0px\"><defs /><text text-anchor=\"middle\" x=\"50%\" y=\"16px\">JJ</text></svg></svg><line stroke=\"black\" x1=\"50%\" x2=\"50%\" y1=\"19.2px\" y2=\"48px\" /></svg><line stroke=\"black\" x1=\"50%\" x2=\"28.5714%\" y1=\"19.2px\" y2=\"48px\" /><svg width=\"42.8571%\" x=\"57.1429%\" y=\"48px\"><defs /><svg width=\"100%\" x=\"0\" y=\"0px\"><defs /><text text-anchor=\"middle\" x=\"50%\" y=\"16px\">product</text></svg><svg width=\"100%\" x=\"0%\" y=\"48px\"><defs /><svg width=\"100%\" x=\"0\" y=\"0px\"><defs /><text text-anchor=\"middle\" x=\"50%\" y=\"16px\">NN</text></svg></svg><line stroke=\"black\" x1=\"50%\" x2=\"50%\" y1=\"19.2px\" y2=\"48px\" /></svg><line stroke=\"black\" x1=\"50%\" x2=\"78.5714%\" y1=\"19.2px\" y2=\"48px\" /></svg><line stroke=\"black\" x1=\"50%\" x2=\"37.4842%\" y1=\"19.2px\" y2=\"48px\" /><svg width=\"2.02276%\" x=\"38.8116%\" y=\"48px\"><defs /><svg width=\"100%\" x=\"0\" y=\"0px\"><defs /><text text-anchor=\"middle\" x=\"50%\" y=\"16px\">Chunk</text></svg><svg width=\"37.5%\" x=\"0%\" y=\"48px\"><defs /><svg width=\"100%\" x=\"0\" y=\"0px\"><defs /><text text-anchor=\"middle\" x=\"50%\" y=\"16px\">user</text></svg><svg width=\"100%\" x=\"0%\" y=\"48px\"><defs /><svg width=\"100%\" x=\"0\" y=\"0px\"><defs /><text text-anchor=\"middle\" x=\"50%\" y=\"16px\">JJ</text></svg></svg><line stroke=\"black\" x1=\"50%\" x2=\"50%\" y1=\"19.2px\" y2=\"48px\" /></svg><line stroke=\"black\" x1=\"50%\" x2=\"18.75%\" y1=\"19.2px\" y2=\"48px\" /><svg width=\"62.5%\" x=\"37.5%\" y=\"48px\"><defs /><svg width=\"100%\" x=\"0\" y=\"0px\"><defs /><text text-anchor=\"middle\" x=\"50%\" y=\"16px\">strategy</text></svg><svg width=\"100%\" x=\"0%\" y=\"48px\"><defs /><svg width=\"100%\" x=\"0\" y=\"0px\"><defs /><text text-anchor=\"middle\" x=\"50%\" y=\"16px\">NN</text></svg></svg><line stroke=\"black\" x1=\"50%\" x2=\"50%\" y1=\"19.2px\" y2=\"48px\" /></svg><line stroke=\"black\" x1=\"50%\" x2=\"68.75%\" y1=\"19.2px\" y2=\"48px\" /></svg><line stroke=\"black\" x1=\"50%\" x2=\"39.823%\" y1=\"19.2px\" y2=\"48px\" /><svg width=\"1.64349%\" x=\"40.8344%\" y=\"48px\"><defs /><svg width=\"100%\" x=\"0\" y=\"0px\"><defs /><text text-anchor=\"middle\" x=\"50%\" y=\"16px\">Chunk</text></svg><svg width=\"100%\" x=\"0%\" y=\"48px\"><defs /><svg width=\"100%\" x=\"0\" y=\"0px\"><defs /><text text-anchor=\"middle\" x=\"50%\" y=\"16px\">environment</text></svg><svg width=\"100%\" x=\"0%\" y=\"48px\"><defs /><svg width=\"100%\" x=\"0\" y=\"0px\"><defs /><text text-anchor=\"middle\" x=\"50%\" y=\"16px\">NN</text></svg></svg><line stroke=\"black\" x1=\"50%\" x2=\"50%\" y1=\"19.2px\" y2=\"48px\" /></svg><line stroke=\"black\" x1=\"50%\" x2=\"50%\" y1=\"19.2px\" y2=\"48px\" /></svg><line stroke=\"black\" x1=\"50%\" x2=\"41.6561%\" y1=\"19.2px\" y2=\"48px\" /><svg width=\"1.26422%\" x=\"42.4779%\" y=\"48px\"><defs /><svg width=\"100%\" x=\"0\" y=\"0px\"><defs /><text text-anchor=\"middle\" x=\"50%\" y=\"16px\">Chunk</text></svg><svg width=\"100%\" x=\"0%\" y=\"48px\"><defs /><svg width=\"100%\" x=\"0\" y=\"0px\"><defs /><text text-anchor=\"middle\" x=\"50%\" y=\"16px\">business</text></svg><svg width=\"100%\" x=\"0%\" y=\"48px\"><defs /><svg width=\"100%\" x=\"0\" y=\"0px\"><defs /><text text-anchor=\"middle\" x=\"50%\" y=\"16px\">NN</text></svg></svg><line stroke=\"black\" x1=\"50%\" x2=\"50%\" y1=\"19.2px\" y2=\"48px\" /></svg><line stroke=\"black\" x1=\"50%\" x2=\"50%\" y1=\"19.2px\" y2=\"48px\" /></svg><line stroke=\"black\" x1=\"50%\" x2=\"43.11%\" y1=\"19.2px\" y2=\"48px\" /><svg width=\"4.04551%\" x=\"43.7421%\" y=\"48px\"><defs /><svg width=\"100%\" x=\"0\" y=\"0px\"><defs /><text text-anchor=\"middle\" x=\"50%\" y=\"16px\">Chunk</text></svg><svg width=\"34.375%\" x=\"0%\" y=\"48px\"><defs /><svg width=\"100%\" x=\"0\" y=\"0px\"><defs /><text text-anchor=\"middle\" x=\"50%\" y=\"16px\">technical</text></svg><svg width=\"100%\" x=\"0%\" y=\"48px\"><defs /><svg width=\"100%\" x=\"0\" y=\"0px\"><defs /><text text-anchor=\"middle\" x=\"50%\" y=\"16px\">JJ</text></svg></svg><line stroke=\"black\" x1=\"50%\" x2=\"50%\" y1=\"19.2px\" y2=\"48px\" /></svg><line stroke=\"black\" x1=\"50%\" x2=\"17.1875%\" y1=\"19.2px\" y2=\"48px\" /><svg width=\"18.75%\" x=\"34.375%\" y=\"48px\"><defs /><svg width=\"100%\" x=\"0\" y=\"0px\"><defs /><text text-anchor=\"middle\" x=\"50%\" y=\"16px\">deep</text></svg><svg width=\"100%\" x=\"0%\" y=\"48px\"><defs /><svg width=\"100%\" x=\"0\" y=\"0px\"><defs /><text text-anchor=\"middle\" x=\"50%\" y=\"16px\">JJ</text></svg></svg><line stroke=\"black\" x1=\"50%\" x2=\"50%\" y1=\"19.2px\" y2=\"48px\" /></svg><line stroke=\"black\" x1=\"50%\" x2=\"43.75%\" y1=\"19.2px\" y2=\"48px\" /><svg width=\"28.125%\" x=\"53.125%\" y=\"48px\"><defs /><svg width=\"100%\" x=\"0\" y=\"0px\"><defs /><text text-anchor=\"middle\" x=\"50%\" y=\"16px\">subject</text></svg><svg width=\"100%\" x=\"0%\" y=\"48px\"><defs /><svg width=\"100%\" x=\"0\" y=\"0px\"><defs /><text text-anchor=\"middle\" x=\"50%\" y=\"16px\">JJ</text></svg></svg><line stroke=\"black\" x1=\"50%\" x2=\"50%\" y1=\"19.2px\" y2=\"48px\" /></svg><line stroke=\"black\" x1=\"50%\" x2=\"67.1875%\" y1=\"19.2px\" y2=\"48px\" /><svg width=\"18.75%\" x=\"81.25%\" y=\"48px\"><defs /><svg width=\"100%\" x=\"0\" y=\"0px\"><defs /><text text-anchor=\"middle\" x=\"50%\" y=\"16px\">area</text></svg><svg width=\"100%\" x=\"0%\" y=\"48px\"><defs /><svg width=\"100%\" x=\"0\" y=\"0px\"><defs /><text text-anchor=\"middle\" x=\"50%\" y=\"16px\">NN</text></svg></svg><line stroke=\"black\" x1=\"50%\" x2=\"50%\" y1=\"19.2px\" y2=\"48px\" /></svg><line stroke=\"black\" x1=\"50%\" x2=\"90.625%\" y1=\"19.2px\" y2=\"48px\" /></svg><line stroke=\"black\" x1=\"50%\" x2=\"45.7649%\" y1=\"19.2px\" y2=\"48px\" /><svg width=\"0.884956%\" x=\"47.7876%\" y=\"48px\"><defs /><svg width=\"100%\" x=\"0\" y=\"0px\"><defs /><text text-anchor=\"middle\" x=\"50%\" y=\"16px\">Chunk</text></svg><svg width=\"100%\" x=\"0%\" y=\"48px\"><defs /><svg width=\"100%\" x=\"0\" y=\"0px\"><defs /><text text-anchor=\"middle\" x=\"50%\" y=\"16px\">team</text></svg><svg width=\"100%\" x=\"0%\" y=\"48px\"><defs /><svg width=\"100%\" x=\"0\" y=\"0px\"><defs /><text text-anchor=\"middle\" x=\"50%\" y=\"16px\">NN</text></svg></svg><line stroke=\"black\" x1=\"50%\" x2=\"50%\" y1=\"19.2px\" y2=\"48px\" /></svg><line stroke=\"black\" x1=\"50%\" x2=\"50%\" y1=\"19.2px\" y2=\"48px\" /></svg><line stroke=\"black\" x1=\"50%\" x2=\"48.2301%\" y1=\"19.2px\" y2=\"48px\" /><svg width=\"1.26422%\" x=\"48.6726%\" y=\"48px\"><defs /><svg width=\"100%\" x=\"0\" y=\"0px\"><defs /><text text-anchor=\"middle\" x=\"50%\" y=\"16px\">Chunk</text></svg><svg width=\"100%\" x=\"0%\" y=\"48px\"><defs /><svg width=\"100%\" x=\"0\" y=\"0px\"><defs /><text text-anchor=\"middle\" x=\"50%\" y=\"16px\">strategy</text></svg><svg width=\"100%\" x=\"0%\" y=\"48px\"><defs /><svg width=\"100%\" x=\"0\" y=\"0px\"><defs /><text text-anchor=\"middle\" x=\"50%\" y=\"16px\">NN</text></svg></svg><line stroke=\"black\" x1=\"50%\" x2=\"50%\" y1=\"19.2px\" y2=\"48px\" /></svg><line stroke=\"black\" x1=\"50%\" x2=\"50%\" y1=\"19.2px\" y2=\"48px\" /></svg><line stroke=\"black\" x1=\"50%\" x2=\"49.3047%\" y1=\"19.2px\" y2=\"48px\" /><svg width=\"2.2756%\" x=\"49.9368%\" y=\"48px\"><defs /><svg width=\"100%\" x=\"0\" y=\"0px\"><defs /><text text-anchor=\"middle\" x=\"50%\" y=\"16px\">Chunk</text></svg><svg width=\"50%\" x=\"0%\" y=\"48px\"><defs /><svg width=\"100%\" x=\"0\" y=\"0px\"><defs /><text text-anchor=\"middle\" x=\"50%\" y=\"16px\">complex</text></svg><svg width=\"100%\" x=\"0%\" y=\"48px\"><defs /><svg width=\"100%\" x=\"0\" y=\"0px\"><defs /><text text-anchor=\"middle\" x=\"50%\" y=\"16px\">JJ</text></svg></svg><line stroke=\"black\" x1=\"50%\" x2=\"50%\" y1=\"19.2px\" y2=\"48px\" /></svg><line stroke=\"black\" x1=\"50%\" x2=\"25%\" y1=\"19.2px\" y2=\"48px\" /><svg width=\"50%\" x=\"50%\" y=\"48px\"><defs /><svg width=\"100%\" x=\"0\" y=\"0px\"><defs /><text text-anchor=\"middle\" x=\"50%\" y=\"16px\">problem</text></svg><svg width=\"100%\" x=\"0%\" y=\"48px\"><defs /><svg width=\"100%\" x=\"0\" y=\"0px\"><defs /><text text-anchor=\"middle\" x=\"50%\" y=\"16px\">NN</text></svg></svg><line stroke=\"black\" x1=\"50%\" x2=\"50%\" y1=\"19.2px\" y2=\"48px\" /></svg><line stroke=\"black\" x1=\"50%\" x2=\"75%\" y1=\"19.2px\" y2=\"48px\" /></svg><line stroke=\"black\" x1=\"50%\" x2=\"51.0746%\" y1=\"19.2px\" y2=\"48px\" /><svg width=\"2.2756%\" x=\"52.2124%\" y=\"48px\"><defs /><svg width=\"100%\" x=\"0\" y=\"0px\"><defs /><text text-anchor=\"middle\" x=\"50%\" y=\"16px\">Chunk</text></svg><svg width=\"50%\" x=\"0%\" y=\"48px\"><defs /><svg width=\"100%\" x=\"0\" y=\"0px\"><defs /><text text-anchor=\"middle\" x=\"50%\" y=\"16px\">regular</text></svg><svg width=\"100%\" x=\"0%\" y=\"48px\"><defs /><svg width=\"100%\" x=\"0\" y=\"0px\"><defs /><text text-anchor=\"middle\" x=\"50%\" y=\"16px\">JJ</text></svg></svg><line stroke=\"black\" x1=\"50%\" x2=\"50%\" y1=\"19.2px\" y2=\"48px\" /></svg><line stroke=\"black\" x1=\"50%\" x2=\"25%\" y1=\"19.2px\" y2=\"48px\" /><svg width=\"50%\" x=\"50%\" y=\"48px\"><defs /><svg width=\"100%\" x=\"0\" y=\"0px\"><defs /><text text-anchor=\"middle\" x=\"50%\" y=\"16px\">problem</text></svg><svg width=\"100%\" x=\"0%\" y=\"48px\"><defs /><svg width=\"100%\" x=\"0\" y=\"0px\"><defs /><text text-anchor=\"middle\" x=\"50%\" y=\"16px\">NN</text></svg></svg><line stroke=\"black\" x1=\"50%\" x2=\"50%\" y1=\"19.2px\" y2=\"48px\" /></svg><line stroke=\"black\" x1=\"50%\" x2=\"75%\" y1=\"19.2px\" y2=\"48px\" /></svg><line stroke=\"black\" x1=\"50%\" x2=\"53.3502%\" y1=\"19.2px\" y2=\"48px\" /><svg width=\"3.79267%\" x=\"54.488%\" y=\"48px\"><defs /><svg width=\"100%\" x=\"0\" y=\"0px\"><defs /><text text-anchor=\"middle\" x=\"50%\" y=\"16px\">Chunk</text></svg><svg width=\"36.6667%\" x=\"0%\" y=\"48px\"><defs /><svg width=\"100%\" x=\"0\" y=\"0px\"><defs /><text text-anchor=\"middle\" x=\"50%\" y=\"16px\">effective</text></svg><svg width=\"100%\" x=\"0%\" y=\"48px\"><defs /><svg width=\"100%\" x=\"0\" y=\"0px\"><defs /><text text-anchor=\"middle\" x=\"50%\" y=\"16px\">JJ</text></svg></svg><line stroke=\"black\" x1=\"50%\" x2=\"50%\" y1=\"19.2px\" y2=\"48px\" /></svg><line stroke=\"black\" x1=\"50%\" x2=\"18.3333%\" y1=\"19.2px\" y2=\"48px\" /><svg width=\"40%\" x=\"36.6667%\" y=\"48px\"><defs /><svg width=\"100%\" x=\"0\" y=\"0px\"><defs /><text text-anchor=\"middle\" x=\"50%\" y=\"16px\">analytical</text></svg><svg width=\"100%\" x=\"0%\" y=\"48px\"><defs /><svg width=\"100%\" x=\"0\" y=\"0px\"><defs /><text text-anchor=\"middle\" x=\"50%\" y=\"16px\">JJ</text></svg></svg><line stroke=\"black\" x1=\"50%\" x2=\"50%\" y1=\"19.2px\" y2=\"48px\" /></svg><line stroke=\"black\" x1=\"50%\" x2=\"56.6667%\" y1=\"19.2px\" y2=\"48px\" /><svg width=\"23.3333%\" x=\"76.6667%\" y=\"48px\"><defs /><svg width=\"100%\" x=\"0\" y=\"0px\"><defs /><text text-anchor=\"middle\" x=\"50%\" y=\"16px\">skill</text></svg><svg width=\"100%\" x=\"0%\" y=\"48px\"><defs /><svg width=\"100%\" x=\"0\" y=\"0px\"><defs /><text text-anchor=\"middle\" x=\"50%\" y=\"16px\">NN</text></svg></svg><line stroke=\"black\" x1=\"50%\" x2=\"50%\" y1=\"19.2px\" y2=\"48px\" /></svg><line stroke=\"black\" x1=\"50%\" x2=\"88.3333%\" y1=\"19.2px\" y2=\"48px\" /></svg><line stroke=\"black\" x1=\"50%\" x2=\"56.3843%\" y1=\"19.2px\" y2=\"48px\" /><svg width=\"2.2756%\" x=\"58.2807%\" y=\"48px\"><defs /><svg width=\"100%\" x=\"0\" y=\"0px\"><defs /><text text-anchor=\"middle\" x=\"50%\" y=\"16px\">Chunk</text></svg><svg width=\"61.1111%\" x=\"0%\" y=\"48px\"><defs /><svg width=\"100%\" x=\"0\" y=\"0px\"><defs /><text text-anchor=\"middle\" x=\"50%\" y=\"16px\">technical</text></svg><svg width=\"100%\" x=\"0%\" y=\"48px\"><defs /><svg width=\"100%\" x=\"0\" y=\"0px\"><defs /><text text-anchor=\"middle\" x=\"50%\" y=\"16px\">JJ</text></svg></svg><line stroke=\"black\" x1=\"50%\" x2=\"50%\" y1=\"19.2px\" y2=\"48px\" /></svg><line stroke=\"black\" x1=\"50%\" x2=\"30.5556%\" y1=\"19.2px\" y2=\"48px\" /><svg width=\"38.8889%\" x=\"61.1111%\" y=\"48px\"><defs /><svg width=\"100%\" x=\"0\" y=\"0px\"><defs /><text text-anchor=\"middle\" x=\"50%\" y=\"16px\">skill</text></svg><svg width=\"100%\" x=\"0%\" y=\"48px\"><defs /><svg width=\"100%\" x=\"0\" y=\"0px\"><defs /><text text-anchor=\"middle\" x=\"50%\" y=\"16px\">NN</text></svg></svg><line stroke=\"black\" x1=\"50%\" x2=\"50%\" y1=\"19.2px\" y2=\"48px\" /></svg><line stroke=\"black\" x1=\"50%\" x2=\"80.5556%\" y1=\"19.2px\" y2=\"48px\" /></svg><line stroke=\"black\" x1=\"50%\" x2=\"59.4185%\" y1=\"19.2px\" y2=\"48px\" /><svg width=\"1.1378%\" x=\"60.5563%\" y=\"48px\"><defs /><svg width=\"100%\" x=\"0\" y=\"0px\"><defs /><text text-anchor=\"middle\" x=\"50%\" y=\"16px\">Chunk</text></svg><svg width=\"100%\" x=\"0%\" y=\"48px\"><defs /><svg width=\"100%\" x=\"0\" y=\"0px\"><defs /><text text-anchor=\"middle\" x=\"50%\" y=\"16px\">product</text></svg><svg width=\"100%\" x=\"0%\" y=\"48px\"><defs /><svg width=\"100%\" x=\"0\" y=\"0px\"><defs /><text text-anchor=\"middle\" x=\"50%\" y=\"16px\">NN</text></svg></svg><line stroke=\"black\" x1=\"50%\" x2=\"50%\" y1=\"19.2px\" y2=\"48px\" /></svg><line stroke=\"black\" x1=\"50%\" x2=\"50%\" y1=\"19.2px\" y2=\"48px\" /></svg><line stroke=\"black\" x1=\"50%\" x2=\"61.1252%\" y1=\"19.2px\" y2=\"48px\" /><svg width=\"0.884956%\" x=\"61.6941%\" y=\"48px\"><defs /><svg width=\"100%\" x=\"0\" y=\"0px\"><defs /><text text-anchor=\"middle\" x=\"50%\" y=\"16px\">Chunk</text></svg><svg width=\"100%\" x=\"0%\" y=\"48px\"><defs /><svg width=\"100%\" x=\"0\" y=\"0px\"><defs /><text text-anchor=\"middle\" x=\"50%\" y=\"16px\">work</text></svg><svg width=\"100%\" x=\"0%\" y=\"48px\"><defs /><svg width=\"100%\" x=\"0\" y=\"0px\"><defs /><text text-anchor=\"middle\" x=\"50%\" y=\"16px\">NN</text></svg></svg><line stroke=\"black\" x1=\"50%\" x2=\"50%\" y1=\"19.2px\" y2=\"48px\" /></svg><line stroke=\"black\" x1=\"50%\" x2=\"50%\" y1=\"19.2px\" y2=\"48px\" /></svg><line stroke=\"black\" x1=\"50%\" x2=\"62.1365%\" y1=\"19.2px\" y2=\"48px\" /><svg width=\"0.884956%\" x=\"62.579%\" y=\"48px\"><defs /><svg width=\"100%\" x=\"0\" y=\"0px\"><defs /><text text-anchor=\"middle\" x=\"50%\" y=\"16px\">Chunk</text></svg><svg width=\"100%\" x=\"0%\" y=\"48px\"><defs /><svg width=\"100%\" x=\"0\" y=\"0px\"><defs /><text text-anchor=\"middle\" x=\"50%\" y=\"16px\">work</text></svg><svg width=\"100%\" x=\"0%\" y=\"48px\"><defs /><svg width=\"100%\" x=\"0\" y=\"0px\"><defs /><text text-anchor=\"middle\" x=\"50%\" y=\"16px\">NN</text></svg></svg><line stroke=\"black\" x1=\"50%\" x2=\"50%\" y1=\"19.2px\" y2=\"48px\" /></svg><line stroke=\"black\" x1=\"50%\" x2=\"50%\" y1=\"19.2px\" y2=\"48px\" /></svg><line stroke=\"black\" x1=\"50%\" x2=\"63.0215%\" y1=\"19.2px\" y2=\"48px\" /><svg width=\"2.65487%\" x=\"63.464%\" y=\"48px\"><defs /><svg width=\"100%\" x=\"0\" y=\"0px\"><defs /><text text-anchor=\"middle\" x=\"50%\" y=\"16px\">Chunk</text></svg><svg width=\"38.0952%\" x=\"0%\" y=\"48px\"><defs /><svg width=\"100%\" x=\"0\" y=\"0px\"><defs /><text text-anchor=\"middle\" x=\"50%\" y=\"16px\">global</text></svg><svg width=\"100%\" x=\"0%\" y=\"48px\"><defs /><svg width=\"100%\" x=\"0\" y=\"0px\"><defs /><text text-anchor=\"middle\" x=\"50%\" y=\"16px\">JJ</text></svg></svg><line stroke=\"black\" x1=\"50%\" x2=\"50%\" y1=\"19.2px\" y2=\"48px\" /></svg><line stroke=\"black\" x1=\"50%\" x2=\"19.0476%\" y1=\"19.2px\" y2=\"48px\" /><svg width=\"61.9048%\" x=\"38.0952%\" y=\"48px\"><defs /><svg width=\"100%\" x=\"0\" y=\"0px\"><defs /><text text-anchor=\"middle\" x=\"50%\" y=\"16px\">environment</text></svg><svg width=\"100%\" x=\"0%\" y=\"48px\"><defs /><svg width=\"100%\" x=\"0\" y=\"0px\"><defs /><text text-anchor=\"middle\" x=\"50%\" y=\"16px\">NN</text></svg></svg><line stroke=\"black\" x1=\"50%\" x2=\"50%\" y1=\"19.2px\" y2=\"48px\" /></svg><line stroke=\"black\" x1=\"50%\" x2=\"69.0476%\" y1=\"19.2px\" y2=\"48px\" /></svg><line stroke=\"black\" x1=\"50%\" x2=\"64.7914%\" y1=\"19.2px\" y2=\"48px\" /><svg width=\"2.78129%\" x=\"66.1188%\" y=\"48px\"><defs /><svg width=\"100%\" x=\"0\" y=\"0px\"><defs /><text text-anchor=\"middle\" x=\"50%\" y=\"16px\">Chunk</text></svg><svg width=\"50%\" x=\"0%\" y=\"48px\"><defs /><svg width=\"100%\" x=\"0\" y=\"0px\"><defs /><text text-anchor=\"middle\" x=\"50%\" y=\"16px\">effective</text></svg><svg width=\"100%\" x=\"0%\" y=\"48px\"><defs /><svg width=\"100%\" x=\"0\" y=\"0px\"><defs /><text text-anchor=\"middle\" x=\"50%\" y=\"16px\">JJ</text></svg></svg><line stroke=\"black\" x1=\"50%\" x2=\"50%\" y1=\"19.2px\" y2=\"48px\" /></svg><line stroke=\"black\" x1=\"50%\" x2=\"25%\" y1=\"19.2px\" y2=\"48px\" /><svg width=\"22.7273%\" x=\"50%\" y=\"48px\"><defs /><svg width=\"100%\" x=\"0\" y=\"0px\"><defs /><text text-anchor=\"middle\" x=\"50%\" y=\"16px\">new</text></svg><svg width=\"100%\" x=\"0%\" y=\"48px\"><defs /><svg width=\"100%\" x=\"0\" y=\"0px\"><defs /><text text-anchor=\"middle\" x=\"50%\" y=\"16px\">JJ</text></svg></svg><line stroke=\"black\" x1=\"50%\" x2=\"50%\" y1=\"19.2px\" y2=\"48px\" /></svg><line stroke=\"black\" x1=\"50%\" x2=\"61.3636%\" y1=\"19.2px\" y2=\"48px\" /><svg width=\"27.2727%\" x=\"72.7273%\" y=\"48px\"><defs /><svg width=\"100%\" x=\"0\" y=\"0px\"><defs /><text text-anchor=\"middle\" x=\"50%\" y=\"16px\">area</text></svg><svg width=\"100%\" x=\"0%\" y=\"48px\"><defs /><svg width=\"100%\" x=\"0\" y=\"0px\"><defs /><text text-anchor=\"middle\" x=\"50%\" y=\"16px\">NN</text></svg></svg><line stroke=\"black\" x1=\"50%\" x2=\"50%\" y1=\"19.2px\" y2=\"48px\" /></svg><line stroke=\"black\" x1=\"50%\" x2=\"86.3636%\" y1=\"19.2px\" y2=\"48px\" /></svg><line stroke=\"black\" x1=\"50%\" x2=\"67.5095%\" y1=\"19.2px\" y2=\"48px\" /><svg width=\"2.14918%\" x=\"68.9001%\" y=\"48px\"><defs /><svg width=\"100%\" x=\"0\" y=\"0px\"><defs /><text text-anchor=\"middle\" x=\"50%\" y=\"16px\">Chunk</text></svg><svg width=\"58.8235%\" x=\"0%\" y=\"48px\"><defs /><svg width=\"100%\" x=\"0\" y=\"0px\"><defs /><text text-anchor=\"middle\" x=\"50%\" y=\"16px\">platform</text></svg><svg width=\"100%\" x=\"0%\" y=\"48px\"><defs /><svg width=\"100%\" x=\"0\" y=\"0px\"><defs /><text text-anchor=\"middle\" x=\"50%\" y=\"16px\">VB</text></svg></svg><line stroke=\"black\" x1=\"50%\" x2=\"50%\" y1=\"19.2px\" y2=\"48px\" /></svg><line stroke=\"black\" x1=\"50%\" x2=\"29.4118%\" y1=\"19.2px\" y2=\"48px\" /><svg width=\"41.1765%\" x=\"58.8235%\" y=\"48px\"><defs /><svg width=\"100%\" x=\"0\" y=\"0px\"><defs /><text text-anchor=\"middle\" x=\"50%\" y=\"16px\">video</text></svg><svg width=\"100%\" x=\"0%\" y=\"48px\"><defs /><svg width=\"100%\" x=\"0\" y=\"0px\"><defs /><text text-anchor=\"middle\" x=\"50%\" y=\"16px\">NN</text></svg></svg><line stroke=\"black\" x1=\"50%\" x2=\"50%\" y1=\"19.2px\" y2=\"48px\" /></svg><line stroke=\"black\" x1=\"50%\" x2=\"79.4118%\" y1=\"19.2px\" y2=\"48px\" /></svg><line stroke=\"black\" x1=\"50%\" x2=\"69.9747%\" y1=\"19.2px\" y2=\"48px\" /><svg width=\"1.01138%\" x=\"71.0493%\" y=\"48px\"><defs /><svg width=\"100%\" x=\"0\" y=\"0px\"><defs /><text text-anchor=\"middle\" x=\"50%\" y=\"16px\">Chunk</text></svg><svg width=\"100%\" x=\"0%\" y=\"48px\"><defs /><svg width=\"100%\" x=\"0\" y=\"0px\"><defs /><text text-anchor=\"middle\" x=\"50%\" y=\"16px\">travel</text></svg><svg width=\"100%\" x=\"0%\" y=\"48px\"><defs /><svg width=\"100%\" x=\"0\" y=\"0px\"><defs /><text text-anchor=\"middle\" x=\"50%\" y=\"16px\">NN</text></svg></svg><line stroke=\"black\" x1=\"50%\" x2=\"50%\" y1=\"19.2px\" y2=\"48px\" /></svg><line stroke=\"black\" x1=\"50%\" x2=\"50%\" y1=\"19.2px\" y2=\"48px\" /></svg><line stroke=\"black\" x1=\"50%\" x2=\"71.555%\" y1=\"19.2px\" y2=\"48px\" /><svg width=\"0.884956%\" x=\"72.0607%\" y=\"48px\"><defs /><svg width=\"100%\" x=\"0\" y=\"0px\"><defs /><text text-anchor=\"middle\" x=\"50%\" y=\"16px\">Chunk</text></svg><svg width=\"100%\" x=\"0%\" y=\"48px\"><defs /><svg width=\"100%\" x=\"0\" y=\"0px\"><defs /><text text-anchor=\"middle\" x=\"50%\" y=\"16px\">help</text></svg><svg width=\"100%\" x=\"0%\" y=\"48px\"><defs /><svg width=\"100%\" x=\"0\" y=\"0px\"><defs /><text text-anchor=\"middle\" x=\"50%\" y=\"16px\">NN</text></svg></svg><line stroke=\"black\" x1=\"50%\" x2=\"50%\" y1=\"19.2px\" y2=\"48px\" /></svg><line stroke=\"black\" x1=\"50%\" x2=\"50%\" y1=\"19.2px\" y2=\"48px\" /></svg><line stroke=\"black\" x1=\"50%\" x2=\"72.5032%\" y1=\"19.2px\" y2=\"48px\" /><svg width=\"3.28698%\" x=\"72.9456%\" y=\"48px\"><defs /><svg width=\"100%\" x=\"0\" y=\"0px\"><defs /><text text-anchor=\"middle\" x=\"50%\" y=\"16px\">Chunk</text></svg><svg width=\"34.6154%\" x=\"0%\" y=\"48px\"><defs /><svg width=\"100%\" x=\"0\" y=\"0px\"><defs /><text text-anchor=\"middle\" x=\"50%\" y=\"16px\">support</text></svg><svg width=\"100%\" x=\"0%\" y=\"48px\"><defs /><svg width=\"100%\" x=\"0\" y=\"0px\"><defs /><text text-anchor=\"middle\" x=\"50%\" y=\"16px\">VB</text></svg></svg><line stroke=\"black\" x1=\"50%\" x2=\"50%\" y1=\"19.2px\" y2=\"48px\" /></svg><line stroke=\"black\" x1=\"50%\" x2=\"17.3077%\" y1=\"19.2px\" y2=\"48px\" /><svg width=\"26.9231%\" x=\"34.6154%\" y=\"48px\"><defs /><svg width=\"100%\" x=\"0\" y=\"0px\"><defs /><text text-anchor=\"middle\" x=\"50%\" y=\"16px\">local</text></svg><svg width=\"100%\" x=\"0%\" y=\"48px\"><defs /><svg width=\"100%\" x=\"0\" y=\"0px\"><defs /><text text-anchor=\"middle\" x=\"50%\" y=\"16px\">JJ</text></svg></svg><line stroke=\"black\" x1=\"50%\" x2=\"50%\" y1=\"19.2px\" y2=\"48px\" /></svg><line stroke=\"black\" x1=\"50%\" x2=\"48.0769%\" y1=\"19.2px\" y2=\"48px\" /><svg width=\"38.4615%\" x=\"61.5385%\" y=\"48px\"><defs /><svg width=\"100%\" x=\"0\" y=\"0px\"><defs /><text text-anchor=\"middle\" x=\"50%\" y=\"16px\">business</text></svg><svg width=\"100%\" x=\"0%\" y=\"48px\"><defs /><svg width=\"100%\" x=\"0\" y=\"0px\"><defs /><text text-anchor=\"middle\" x=\"50%\" y=\"16px\">NN</text></svg></svg><line stroke=\"black\" x1=\"50%\" x2=\"50%\" y1=\"19.2px\" y2=\"48px\" /></svg><line stroke=\"black\" x1=\"50%\" x2=\"80.7692%\" y1=\"19.2px\" y2=\"48px\" /></svg><line stroke=\"black\" x1=\"50%\" x2=\"74.5891%\" y1=\"19.2px\" y2=\"48px\" /><svg width=\"0.884956%\" x=\"76.2326%\" y=\"48px\"><defs /><svg width=\"100%\" x=\"0\" y=\"0px\"><defs /><text text-anchor=\"middle\" x=\"50%\" y=\"16px\">Chunk</text></svg><svg width=\"100%\" x=\"0%\" y=\"48px\"><defs /><svg width=\"100%\" x=\"0\" y=\"0px\"><defs /><text text-anchor=\"middle\" x=\"50%\" y=\"16px\">share</text></svg><svg width=\"100%\" x=\"0%\" y=\"48px\"><defs /><svg width=\"100%\" x=\"0\" y=\"0px\"><defs /><text text-anchor=\"middle\" x=\"50%\" y=\"16px\">NN</text></svg></svg><line stroke=\"black\" x1=\"50%\" x2=\"50%\" y1=\"19.2px\" y2=\"48px\" /></svg><line stroke=\"black\" x1=\"50%\" x2=\"50%\" y1=\"19.2px\" y2=\"48px\" /></svg><line stroke=\"black\" x1=\"50%\" x2=\"76.6751%\" y1=\"19.2px\" y2=\"48px\" /><svg width=\"1.51707%\" x=\"77.1176%\" y=\"48px\"><defs /><svg width=\"100%\" x=\"0\" y=\"0px\"><defs /><text text-anchor=\"middle\" x=\"50%\" y=\"16px\">Chunk</text></svg><svg width=\"100%\" x=\"0%\" y=\"48px\"><defs /><svg width=\"100%\" x=\"0\" y=\"0px\"><defs /><text text-anchor=\"middle\" x=\"50%\" y=\"16px\">experience</text></svg><svg width=\"100%\" x=\"0%\" y=\"48px\"><defs /><svg width=\"100%\" x=\"0\" y=\"0px\"><defs /><text text-anchor=\"middle\" x=\"50%\" y=\"16px\">NN</text></svg></svg><line stroke=\"black\" x1=\"50%\" x2=\"50%\" y1=\"19.2px\" y2=\"48px\" /></svg><line stroke=\"black\" x1=\"50%\" x2=\"50%\" y1=\"19.2px\" y2=\"48px\" /></svg><line stroke=\"black\" x1=\"50%\" x2=\"77.8761%\" y1=\"19.2px\" y2=\"48px\" /><svg width=\"0.884956%\" x=\"78.6346%\" y=\"48px\"><defs /><svg width=\"100%\" x=\"0\" y=\"0px\"><defs /><text text-anchor=\"middle\" x=\"50%\" y=\"16px\">Chunk</text></svg><svg width=\"100%\" x=\"0%\" y=\"48px\"><defs /><svg width=\"100%\" x=\"0\" y=\"0px\"><defs /><text text-anchor=\"middle\" x=\"50%\" y=\"16px\">help</text></svg><svg width=\"100%\" x=\"0%\" y=\"48px\"><defs /><svg width=\"100%\" x=\"0\" y=\"0px\"><defs /><text text-anchor=\"middle\" x=\"50%\" y=\"16px\">NN</text></svg></svg><line stroke=\"black\" x1=\"50%\" x2=\"50%\" y1=\"19.2px\" y2=\"48px\" /></svg><line stroke=\"black\" x1=\"50%\" x2=\"50%\" y1=\"19.2px\" y2=\"48px\" /></svg><line stroke=\"black\" x1=\"50%\" x2=\"79.0771%\" y1=\"19.2px\" y2=\"48px\" /><svg width=\"1.26422%\" x=\"79.5196%\" y=\"48px\"><defs /><svg width=\"100%\" x=\"0\" y=\"0px\"><defs /><text text-anchor=\"middle\" x=\"50%\" y=\"16px\">discover</text></svg><svg width=\"100%\" x=\"0%\" y=\"48px\"><defs /><svg width=\"100%\" x=\"0\" y=\"0px\"><defs /><text text-anchor=\"middle\" x=\"50%\" y=\"16px\">RB</text></svg></svg><line stroke=\"black\" x1=\"50%\" x2=\"50%\" y1=\"19.2px\" y2=\"48px\" /></svg><line stroke=\"black\" x1=\"50%\" x2=\"80.1517%\" y1=\"19.2px\" y2=\"48px\" /><svg width=\"1.51707%\" x=\"80.7838%\" y=\"48px\"><defs /><svg width=\"100%\" x=\"0\" y=\"0px\"><defs /><text text-anchor=\"middle\" x=\"50%\" y=\"16px\">Chunk</text></svg><svg width=\"100%\" x=\"0%\" y=\"48px\"><defs /><svg width=\"100%\" x=\"0\" y=\"0px\"><defs /><text text-anchor=\"middle\" x=\"50%\" y=\"16px\">experience</text></svg><svg width=\"100%\" x=\"0%\" y=\"48px\"><defs /><svg width=\"100%\" x=\"0\" y=\"0px\"><defs /><text text-anchor=\"middle\" x=\"50%\" y=\"16px\">NN</text></svg></svg><line stroke=\"black\" x1=\"50%\" x2=\"50%\" y1=\"19.2px\" y2=\"48px\" /></svg><line stroke=\"black\" x1=\"50%\" x2=\"50%\" y1=\"19.2px\" y2=\"48px\" /></svg><line stroke=\"black\" x1=\"50%\" x2=\"81.5424%\" y1=\"19.2px\" y2=\"48px\" /><svg width=\"0.884956%\" x=\"82.3009%\" y=\"48px\"><defs /><svg width=\"100%\" x=\"0\" y=\"0px\"><defs /><text text-anchor=\"middle\" x=\"50%\" y=\"16px\">Chunk</text></svg><svg width=\"100%\" x=\"0%\" y=\"48px\"><defs /><svg width=\"100%\" x=\"0\" y=\"0px\"><defs /><text text-anchor=\"middle\" x=\"50%\" y=\"16px\">video</text></svg><svg width=\"100%\" x=\"0%\" y=\"48px\"><defs /><svg width=\"100%\" x=\"0\" y=\"0px\"><defs /><text text-anchor=\"middle\" x=\"50%\" y=\"16px\">NN</text></svg></svg><line stroke=\"black\" x1=\"50%\" x2=\"50%\" y1=\"19.2px\" y2=\"48px\" /></svg><line stroke=\"black\" x1=\"50%\" x2=\"50%\" y1=\"19.2px\" y2=\"48px\" /></svg><line stroke=\"black\" x1=\"50%\" x2=\"82.7434%\" y1=\"19.2px\" y2=\"48px\" /><svg width=\"1.89633%\" x=\"83.1858%\" y=\"48px\"><defs /><svg width=\"100%\" x=\"0\" y=\"0px\"><defs /><text text-anchor=\"middle\" x=\"50%\" y=\"16px\">Chunk</text></svg><svg width=\"53.3333%\" x=\"0%\" y=\"48px\"><defs /><svg width=\"100%\" x=\"0\" y=\"0px\"><defs /><text text-anchor=\"middle\" x=\"50%\" y=\"16px\">global</text></svg><svg width=\"100%\" x=\"0%\" y=\"48px\"><defs /><svg width=\"100%\" x=\"0\" y=\"0px\"><defs /><text text-anchor=\"middle\" x=\"50%\" y=\"16px\">JJ</text></svg></svg><line stroke=\"black\" x1=\"50%\" x2=\"50%\" y1=\"19.2px\" y2=\"48px\" /></svg><line stroke=\"black\" x1=\"50%\" x2=\"26.6667%\" y1=\"19.2px\" y2=\"48px\" /><svg width=\"46.6667%\" x=\"53.3333%\" y=\"48px\"><defs /><svg width=\"100%\" x=\"0\" y=\"0px\"><defs /><text text-anchor=\"middle\" x=\"50%\" y=\"16px\">video</text></svg><svg width=\"100%\" x=\"0%\" y=\"48px\"><defs /><svg width=\"100%\" x=\"0\" y=\"0px\"><defs /><text text-anchor=\"middle\" x=\"50%\" y=\"16px\">NN</text></svg></svg><line stroke=\"black\" x1=\"50%\" x2=\"50%\" y1=\"19.2px\" y2=\"48px\" /></svg><line stroke=\"black\" x1=\"50%\" x2=\"76.6667%\" y1=\"19.2px\" y2=\"48px\" /></svg><line stroke=\"black\" x1=\"50%\" x2=\"84.134%\" y1=\"19.2px\" y2=\"48px\" /><svg width=\"0.884956%\" x=\"85.0822%\" y=\"48px\"><defs /><svg width=\"100%\" x=\"0\" y=\"0px\"><defs /><text text-anchor=\"middle\" x=\"50%\" y=\"16px\">Chunk</text></svg><svg width=\"100%\" x=\"0%\" y=\"48px\"><defs /><svg width=\"100%\" x=\"0\" y=\"0px\"><defs /><text text-anchor=\"middle\" x=\"50%\" y=\"16px\">work</text></svg><svg width=\"100%\" x=\"0%\" y=\"48px\"><defs /><svg width=\"100%\" x=\"0\" y=\"0px\"><defs /><text text-anchor=\"middle\" x=\"50%\" y=\"16px\">NN</text></svg></svg><line stroke=\"black\" x1=\"50%\" x2=\"50%\" y1=\"19.2px\" y2=\"48px\" /></svg><line stroke=\"black\" x1=\"50%\" x2=\"50%\" y1=\"19.2px\" y2=\"48px\" /></svg><line stroke=\"black\" x1=\"50%\" x2=\"85.5247%\" y1=\"19.2px\" y2=\"48px\" /><svg width=\"1.51707%\" x=\"85.9671%\" y=\"48px\"><defs /><svg width=\"100%\" x=\"0\" y=\"0px\"><defs /><text text-anchor=\"middle\" x=\"50%\" y=\"16px\">Chunk</text></svg><svg width=\"100%\" x=\"0%\" y=\"48px\"><defs /><svg width=\"100%\" x=\"0\" y=\"0px\"><defs /><text text-anchor=\"middle\" x=\"50%\" y=\"16px\">passionate</text></svg><svg width=\"100%\" x=\"0%\" y=\"48px\"><defs /><svg width=\"100%\" x=\"0\" y=\"0px\"><defs /><text text-anchor=\"middle\" x=\"50%\" y=\"16px\">NN</text></svg></svg><line stroke=\"black\" x1=\"50%\" x2=\"50%\" y1=\"19.2px\" y2=\"48px\" /></svg><line stroke=\"black\" x1=\"50%\" x2=\"50%\" y1=\"19.2px\" y2=\"48px\" /></svg><line stroke=\"black\" x1=\"50%\" x2=\"86.7257%\" y1=\"19.2px\" y2=\"48px\" /><svg width=\"5.18331%\" x=\"87.4842%\" y=\"48px\"><defs /><svg width=\"100%\" x=\"0\" y=\"0px\"><defs /><text text-anchor=\"middle\" x=\"50%\" y=\"16px\">Chunk</text></svg><svg width=\"9.7561%\" x=\"0%\" y=\"48px\"><defs /><svg width=\"100%\" x=\"0\" y=\"0px\"><defs /><text text-anchor=\"middle\" x=\"50%\" y=\"16px\">u</text></svg><svg width=\"100%\" x=\"0%\" y=\"48px\"><defs /><svg width=\"100%\" x=\"0\" y=\"0px\"><defs /><text text-anchor=\"middle\" x=\"50%\" y=\"16px\">VB</text></svg></svg><line stroke=\"black\" x1=\"50%\" x2=\"50%\" y1=\"19.2px\" y2=\"48px\" /></svg><line stroke=\"black\" x1=\"50%\" x2=\"4.87805%\" y1=\"19.2px\" y2=\"48px\" /><svg width=\"36.5854%\" x=\"9.7561%\" y=\"48px\"><defs /><svg width=\"100%\" x=\"0\" y=\"0px\"><defs /><text text-anchor=\"middle\" x=\"50%\" y=\"16px\">revolutionize</text></svg><svg width=\"100%\" x=\"0%\" y=\"48px\"><defs /><svg width=\"100%\" x=\"0\" y=\"0px\"><defs /><text text-anchor=\"middle\" x=\"50%\" y=\"16px\">VB</text></svg></svg><line stroke=\"black\" x1=\"50%\" x2=\"50%\" y1=\"19.2px\" y2=\"48px\" /></svg><line stroke=\"black\" x1=\"50%\" x2=\"28.0488%\" y1=\"19.2px\" y2=\"48px\" /><svg width=\"24.3902%\" x=\"46.3415%\" y=\"48px\"><defs /><svg width=\"100%\" x=\"0\" y=\"0px\"><defs /><text text-anchor=\"middle\" x=\"50%\" y=\"16px\">discover</text></svg><svg width=\"100%\" x=\"0%\" y=\"48px\"><defs /><svg width=\"100%\" x=\"0\" y=\"0px\"><defs /><text text-anchor=\"middle\" x=\"50%\" y=\"16px\">VB</text></svg></svg><line stroke=\"black\" x1=\"50%\" x2=\"50%\" y1=\"19.2px\" y2=\"48px\" /></svg><line stroke=\"black\" x1=\"50%\" x2=\"58.5366%\" y1=\"19.2px\" y2=\"48px\" /><svg width=\"29.2683%\" x=\"70.7317%\" y=\"48px\"><defs /><svg width=\"100%\" x=\"0\" y=\"0px\"><defs /><text text-anchor=\"middle\" x=\"50%\" y=\"16px\">experience</text></svg><svg width=\"100%\" x=\"0%\" y=\"48px\"><defs /><svg width=\"100%\" x=\"0\" y=\"0px\"><defs /><text text-anchor=\"middle\" x=\"50%\" y=\"16px\">NN</text></svg></svg><line stroke=\"black\" x1=\"50%\" x2=\"50%\" y1=\"19.2px\" y2=\"48px\" /></svg><line stroke=\"black\" x1=\"50%\" x2=\"85.3659%\" y1=\"19.2px\" y2=\"48px\" /></svg><line stroke=\"black\" x1=\"50%\" x2=\"90.0759%\" y1=\"19.2px\" y2=\"48px\" /><svg width=\"0.884956%\" x=\"92.6675%\" y=\"48px\"><defs /><svg width=\"100%\" x=\"0\" y=\"0px\"><defs /><text text-anchor=\"middle\" x=\"50%\" y=\"16px\">Chunk</text></svg><svg width=\"100%\" x=\"0%\" y=\"48px\"><defs /><svg width=\"100%\" x=\"0\" y=\"0px\"><defs /><text text-anchor=\"middle\" x=\"50%\" y=\"16px\">team</text></svg><svg width=\"100%\" x=\"0%\" y=\"48px\"><defs /><svg width=\"100%\" x=\"0\" y=\"0px\"><defs /><text text-anchor=\"middle\" x=\"50%\" y=\"16px\">NN</text></svg></svg><line stroke=\"black\" x1=\"50%\" x2=\"50%\" y1=\"19.2px\" y2=\"48px\" /></svg><line stroke=\"black\" x1=\"50%\" x2=\"50%\" y1=\"19.2px\" y2=\"48px\" /></svg><line stroke=\"black\" x1=\"50%\" x2=\"93.11%\" y1=\"19.2px\" y2=\"48px\" /><svg width=\"0.884956%\" x=\"93.5525%\" y=\"48px\"><defs /><svg width=\"100%\" x=\"0\" y=\"0px\"><defs /><text text-anchor=\"middle\" x=\"50%\" y=\"16px\">Chunk</text></svg><svg width=\"100%\" x=\"0%\" y=\"48px\"><defs /><svg width=\"100%\" x=\"0\" y=\"0px\"><defs /><text text-anchor=\"middle\" x=\"50%\" y=\"16px\">u</text></svg><svg width=\"100%\" x=\"0%\" y=\"48px\"><defs /><svg width=\"100%\" x=\"0\" y=\"0px\"><defs /><text text-anchor=\"middle\" x=\"50%\" y=\"16px\">NN</text></svg></svg><line stroke=\"black\" x1=\"50%\" x2=\"50%\" y1=\"19.2px\" y2=\"48px\" /></svg><line stroke=\"black\" x1=\"50%\" x2=\"50%\" y1=\"19.2px\" y2=\"48px\" /></svg><line stroke=\"black\" x1=\"50%\" x2=\"93.9949%\" y1=\"19.2px\" y2=\"48px\" /><svg width=\"1.1378%\" x=\"94.4374%\" y=\"48px\"><defs /><svg width=\"100%\" x=\"0\" y=\"0px\"><defs /><text text-anchor=\"middle\" x=\"50%\" y=\"16px\">Chunk</text></svg><svg width=\"100%\" x=\"0%\" y=\"48px\"><defs /><svg width=\"100%\" x=\"0\" y=\"0px\"><defs /><text text-anchor=\"middle\" x=\"50%\" y=\"16px\">mission</text></svg><svg width=\"100%\" x=\"0%\" y=\"48px\"><defs /><svg width=\"100%\" x=\"0\" y=\"0px\"><defs /><text text-anchor=\"middle\" x=\"50%\" y=\"16px\">NN</text></svg></svg><line stroke=\"black\" x1=\"50%\" x2=\"50%\" y1=\"19.2px\" y2=\"48px\" /></svg><line stroke=\"black\" x1=\"50%\" x2=\"50%\" y1=\"19.2px\" y2=\"48px\" /></svg><line stroke=\"black\" x1=\"50%\" x2=\"95.0063%\" y1=\"19.2px\" y2=\"48px\" /><svg width=\"0.884956%\" x=\"95.5752%\" y=\"48px\"><defs /><svg width=\"100%\" x=\"0\" y=\"0px\"><defs /><text text-anchor=\"middle\" x=\"50%\" y=\"16px\">Chunk</text></svg><svg width=\"100%\" x=\"0%\" y=\"48px\"><defs /><svg width=\"100%\" x=\"0\" y=\"0px\"><defs /><text text-anchor=\"middle\" x=\"50%\" y=\"16px\">share</text></svg><svg width=\"100%\" x=\"0%\" y=\"48px\"><defs /><svg width=\"100%\" x=\"0\" y=\"0px\"><defs /><text text-anchor=\"middle\" x=\"50%\" y=\"16px\">NN</text></svg></svg><line stroke=\"black\" x1=\"50%\" x2=\"50%\" y1=\"19.2px\" y2=\"48px\" /></svg><line stroke=\"black\" x1=\"50%\" x2=\"50%\" y1=\"19.2px\" y2=\"48px\" /></svg><line stroke=\"black\" x1=\"50%\" x2=\"96.0177%\" y1=\"19.2px\" y2=\"48px\" /><svg width=\"1.51707%\" x=\"96.4602%\" y=\"48px\"><defs /><svg width=\"100%\" x=\"0\" y=\"0px\"><defs /><text text-anchor=\"middle\" x=\"50%\" y=\"16px\">Chunk</text></svg><svg width=\"100%\" x=\"0%\" y=\"48px\"><defs /><svg width=\"100%\" x=\"0\" y=\"0px\"><defs /><text text-anchor=\"middle\" x=\"50%\" y=\"16px\">experience</text></svg><svg width=\"100%\" x=\"0%\" y=\"48px\"><defs /><svg width=\"100%\" x=\"0\" y=\"0px\"><defs /><text text-anchor=\"middle\" x=\"50%\" y=\"16px\">NN</text></svg></svg><line stroke=\"black\" x1=\"50%\" x2=\"50%\" y1=\"19.2px\" y2=\"48px\" /></svg><line stroke=\"black\" x1=\"50%\" x2=\"50%\" y1=\"19.2px\" y2=\"48px\" /></svg><line stroke=\"black\" x1=\"50%\" x2=\"97.2187%\" y1=\"19.2px\" y2=\"48px\" /><svg width=\"1.1378%\" x=\"97.9772%\" y=\"48px\"><defs /><svg width=\"100%\" x=\"0\" y=\"0px\"><defs /><text text-anchor=\"middle\" x=\"50%\" y=\"16px\">support</text></svg><svg width=\"100%\" x=\"0%\" y=\"48px\"><defs /><svg width=\"100%\" x=\"0\" y=\"0px\"><defs /><text text-anchor=\"middle\" x=\"50%\" y=\"16px\">VBP</text></svg></svg><line stroke=\"black\" x1=\"50%\" x2=\"50%\" y1=\"19.2px\" y2=\"48px\" /></svg><line stroke=\"black\" x1=\"50%\" x2=\"98.5461%\" y1=\"19.2px\" y2=\"48px\" /><svg width=\"0.884956%\" x=\"99.115%\" y=\"48px\"><defs /><svg width=\"100%\" x=\"0\" y=\"0px\"><defs /><text text-anchor=\"middle\" x=\"50%\" y=\"16px\">local</text></svg><svg width=\"100%\" x=\"0%\" y=\"48px\"><defs /><svg width=\"100%\" x=\"0\" y=\"0px\"><defs /><text text-anchor=\"middle\" x=\"50%\" y=\"16px\">JJ</text></svg></svg><line stroke=\"black\" x1=\"50%\" x2=\"50%\" y1=\"19.2px\" y2=\"48px\" /></svg><line stroke=\"black\" x1=\"50%\" x2=\"99.5575%\" y1=\"19.2px\" y2=\"48px\" /></svg>"
      ],
      "text/plain": [
       "Tree('S', [Tree('Chunk', [('analytical', 'JJ'), ('thinker', 'NN')]), Tree('Chunk', [('passionate', 'NN')]), Tree('Chunk', [('travel', 'NN')]), Tree('Chunk', [('local', 'JJ'), ('business', 'NN')]), Tree('Chunk', [('new', 'JJ'), ('place', 'NN')]), Tree('Chunk', [('join', 'JJ'), ('mission', 'NN')]), Tree('Chunk', [('business', 'NN')]), Tree('Chunk', [('power', 'NN')]), Tree('Chunk', [('bit', 'NN')]), ('drink', 'VB'), ('aficionado', 'JJ'), ('ready', 'JJ'), Tree('Chunk', [('make', 'VB'), ('impact', 'JJ'), ('global', 'JJ'), ('support', 'NN')]), Tree('Chunk', [('let', 'VB'), ('get', 'VB'), ('intern', 'JJ'), ('work', 'NN')]), Tree('Chunk', [('team', 'NN')]), Tree('Chunk', [('work', 'NN')]), Tree('Chunk', [('optimize', 'VB'), ('user', 'JJ'), ('experience', 'NN')]), ('intern', 'VBP'), Tree('Chunk', [('exercise', 'JJ'), ('independent', 'JJ'), ('new', 'JJ'), ('insight', 'JJ'), ('product', 'NN')]), Tree('Chunk', [('understand', 'JJ'), ('product', 'NN')]), Tree('Chunk', [('user', 'JJ'), ('strategy', 'NN')]), Tree('Chunk', [('environment', 'NN')]), Tree('Chunk', [('business', 'NN')]), Tree('Chunk', [('technical', 'JJ'), ('deep', 'JJ'), ('subject', 'JJ'), ('area', 'NN')]), Tree('Chunk', [('team', 'NN')]), Tree('Chunk', [('strategy', 'NN')]), Tree('Chunk', [('complex', 'JJ'), ('problem', 'NN')]), Tree('Chunk', [('regular', 'JJ'), ('problem', 'NN')]), Tree('Chunk', [('effective', 'JJ'), ('analytical', 'JJ'), ('skill', 'NN')]), Tree('Chunk', [('technical', 'JJ'), ('skill', 'NN')]), Tree('Chunk', [('product', 'NN')]), Tree('Chunk', [('work', 'NN')]), Tree('Chunk', [('work', 'NN')]), Tree('Chunk', [('global', 'JJ'), ('environment', 'NN')]), Tree('Chunk', [('effective', 'JJ'), ('new', 'JJ'), ('area', 'NN')]), Tree('Chunk', [('platform', 'VB'), ('video', 'NN')]), Tree('Chunk', [('travel', 'NN')]), Tree('Chunk', [('help', 'NN')]), Tree('Chunk', [('support', 'VB'), ('local', 'JJ'), ('business', 'NN')]), Tree('Chunk', [('share', 'NN')]), Tree('Chunk', [('experience', 'NN')]), Tree('Chunk', [('help', 'NN')]), ('discover', 'RB'), Tree('Chunk', [('experience', 'NN')]), Tree('Chunk', [('video', 'NN')]), Tree('Chunk', [('global', 'JJ'), ('video', 'NN')]), Tree('Chunk', [('work', 'NN')]), Tree('Chunk', [('passionate', 'NN')]), Tree('Chunk', [('u', 'VB'), ('revolutionize', 'VB'), ('discover', 'VB'), ('experience', 'NN')]), Tree('Chunk', [('team', 'NN')]), Tree('Chunk', [('u', 'NN')]), Tree('Chunk', [('mission', 'NN')]), Tree('Chunk', [('share', 'NN')]), Tree('Chunk', [('experience', 'NN')]), ('support', 'VBP'), ('local', 'JJ')])"
      ]
     },
     "execution_count": 70,
     "metadata": {},
     "output_type": "execute_result"
    }
   ],
   "source": [
    "# grabbing nouns and surrounding adjectives for context.\n",
    "pattern = \"Chunk: {<VB>*<JJ>*<NN>}\"\n",
    "\n",
    "chunk_parser = nltk.RegexpParser(pattern)\n",
    "for job in jobs_data:\n",
    "    tagged_intersection = list(filter(\n",
    "        lambda tag: tag[0] in job['frequent_nouns'] or tag[0] in job['frequent_adjectives'] or tag[0] in job['frequent_verbs'], job['tagged_tokens']\n",
    "    ))\n",
    "    job['frequent_nouns_context'] = chunk_parser.parse(tagged_intersection)\n",
    "\n",
    "# tree with a combination of the most frequent nouns, adjectives, and verbs.\n",
    "jobs_data[0]['frequent_nouns_context']"
   ]
  },
  {
   "cell_type": "markdown",
   "metadata": {},
   "source": [
    "##### Step #8:\n",
    "Now performing a similar manipulation with NLTK's in-built collocations function. The function finds the most frequent two-word phrases and allows to store the representation in a list for each job."
   ]
  },
  {
   "cell_type": "code",
   "execution_count": 71,
   "metadata": {},
   "outputs": [
    {
     "data": {
      "text/plain": [
       "['Data Science',\n",
       " 'share experience',\n",
       " 'support local',\n",
       " 'business globally',\n",
       " 'local business']"
      ]
     },
     "execution_count": 71,
     "metadata": {},
     "output_type": "execute_result"
    }
   ],
   "source": [
    "# Collocation.\n",
    "# Word sequences that occur often.\n",
    "for job in jobs_data:\n",
    "    text = nltk.Text(job['lemmatized_tokens'])\n",
    "    job['frequent_phrases'] = [f\"{phrase[0]} {phrase[1]}\" for phrase in text.collocation_list(15)]\n",
    "\n",
    "jobs_data[0]['frequent_phrases']\n"
   ]
  },
  {
   "cell_type": "markdown",
   "metadata": {},
   "source": [
    "### Sentiment Analysis"
   ]
  },
  {
   "cell_type": "markdown",
   "metadata": {},
   "source": [
    "##### What does NLTK's Sentiment Analysis do under the hood?\n",
    "NLTK sentiment analysis uses their VADER model to generate a score of how positive, negative, or neutral the string is. Each word token in the provided string is classified as either positive, negative, or either and by some calculation sums to the total sentiment score [[5]](#references)."
   ]
  },
  {
   "cell_type": "code",
   "execution_count": 72,
   "metadata": {},
   "outputs": [
    {
     "name": "stdout",
     "output_type": "stream",
     "text": [
      "{'neg': 0.017, 'neu': 0.75, 'pos': 0.232, 'compound': 0.9986}\n"
     ]
    }
   ],
   "source": [
    "# Sentiment analysis for job posting.\n",
    "from nltk.sentiment import SentimentIntensityAnalyzer\n",
    "\n",
    "# Lets check for the first one to get a feel...\n",
    "sia = SentimentIntensityAnalyzer()\n",
    "sample_sentiment = sia.polarity_scores(jobs_data[0]['description']) # seems not too far fetched, mostly neutral.\n",
    "print(sample_sentiment)\n",
    "\n",
    "# Recording for all jobs.\n",
    "for job in jobs_data:\n",
    "    job['sentiment'] = sia.polarity_scores(job['description'])"
   ]
  },
  {
   "cell_type": "markdown",
   "metadata": {},
   "source": [
    "##### Summarizing texts using NLTK\n",
    "The model behind text summarization is not native to NLTK, however, it does provide an easy way to tokenize the text and perform frequency distribution for each word. The resulting summarized string is a collection of string with the most frequent words. Below the top 5 highest rated sentences are shown for a job posting [[6]](#references)."
   ]
  },
  {
   "cell_type": "code",
   "execution_count": 73,
   "metadata": {},
   "outputs": [
    {
     "data": {
      "text/plain": [
       "\"\\nWho are you?Simply put, you're a highly analytical thinker who's passionate about travel and supporting local businesses.You love discovering new places, and you're excited to join our mission of supporting businesses globally through the power of sharing.You're a bit of a food and drink aficionado, and you're ready to make an impact on a global scale by helping to support our Data Science Org.Sound like you?\""
      ]
     },
     "execution_count": 73,
     "metadata": {},
     "output_type": "execute_result"
    }
   ],
   "source": [
    "# Summarizing the original descriptions (so its easier to glance at).\n",
    "# Citation: Educative.io Izra Muzzafar similar implementation [5].\n",
    "\n",
    "for job in jobs_data:\n",
    "    freq = nltk.FreqDist(job['relevant_tokens'])\n",
    "    sentence_tokens = nltk.sent_tokenize(job['description'])\n",
    "\n",
    "    scores = {}\n",
    "    for sent_token in sentence_tokens:\n",
    "        for word_token in nltk.word_tokenize(sent_token):\n",
    "            if word_token in scores:\n",
    "                scores[sent_token] += freq[word_token]\n",
    "            else:\n",
    "                scores[sent_token] = freq[word_token]\n",
    "\n",
    "    top5 = sorted(scores.items(), key=lambda s: s[1], reverse=True)[:5]\n",
    "    job['summary'] = \"\".join([sent[0] for sent in top5])\n",
    "\n",
    "jobs_data[0]['summary']"
   ]
  },
  {
   "cell_type": "markdown",
   "metadata": {},
   "source": [
    "### Recording results"
   ]
  },
  {
   "cell_type": "markdown",
   "metadata": {},
   "source": [
    "To preserve are results for further human analysis the results are exported to an external simple text file. NLTK is powerful tool for text analysis, however, human intervention for the most part is still required. As machines may evaluate the principle characteristics of text while humans can make more critical judgement calls."
   ]
  },
  {
   "cell_type": "code",
   "execution_count": 82,
   "metadata": {},
   "outputs": [],
   "source": [
    "# Exporting to a file for final decision.\n",
    "\n",
    "with open(\"analysis.txt\", \"w\") as outfile:\n",
    "    outfile.write(f\"ANALYSIS OF {TOP_HITS} JOB POSTINGS\\nResult from {base_url} for query: {search_q}\\n\\n\")\n",
    "    for job in jobs_data:\n",
    "        outfile.write(f\"{'-' * 100}\\n\")\n",
    "        outfile.write(f\">> {job['title'].strip()}\\nSUMMARY:\\n{job['summary'].strip()}\\n\")\n",
    "        outfile.write(f\"FREQUENT TWO-WORD PHRASES:\\n\")\n",
    "        for phrase in job['frequent_phrases']:\n",
    "            outfile.write(f\"- {phrase}\\n\")\n",
    "        outfile.write(f\"SENTIMENT:\\n{job['sentiment']}\\n\")\n",
    "        outfile.write(f\"{'-' * 100}\\n\\n\")"
   ]
  },
  {
   "cell_type": "markdown",
   "metadata": {},
   "source": [
    "## Package Review"
   ]
  },
  {
   "cell_type": "markdown",
   "metadata": {},
   "source": [
    "### Advantages\n",
    "- A lot of room for customization and intersections with many other libraries (selenium, bs4, scikitlearn, etc.).\n",
    "- A lot of documentation and in-depth book on how to maximize the capabilities of the package.\n",
    "- Best for text deconstruction, categorization, and organization."
   ]
  },
  {
   "cell_type": "markdown",
   "metadata": {},
   "source": [
    "### Disadvantages\n",
    "- Steep learning curve. To utilize most of the package capabilities requires some more advanced linguistic understanding.\n",
    "- The out-of-box functions provided by NLTK are \"good enough\" but for the most part a lot of code and data manipulation is required to achieve good results with specifically your natural language data.\n",
    "- The package mainly provides string deconstruction functions and for the most part does not perform any more advanced token classifications which would have been useful in the job description but is rather code intensive."
   ]
  },
  {
   "cell_type": "markdown",
   "metadata": {},
   "source": [
    "### Challenges\n",
    "- The out-of-box database of words is not representitive of most textual data and is rather limited. An example of this was seen in the lemmatization step where the words were unmodified due to missing representation in NLTK word database.\n",
    "- Documentation is plentiful but rather difficult to scan through quickly.\n",
    "\n",
    "### Bugs\n",
    "No bugs were observed and the package was able to perform as advertised.\n",
    "\n",
    "### Best Suited For\n",
    "NLTK is best suited for text simplification and organizing text features for machine learning. "
   ]
  },
  {
   "cell_type": "markdown",
   "metadata": {},
   "source": [
    "## References\n",
    "[1] J. Jablonski, “Natural Language Processing With Python’s NLTK Package – Real Python,” realpython.com, May 05, 2021. https://realpython.com/nltk-nlp-python/ (accessed Apr. 20, 2024).\n",
    "\n",
    "[2] T. Aarsen, “Natural Language Toolkit — NLTK 3.4.5 documentation,” Nltk.org, 2009. https://www.nltk.org (accessed Apr. 20, 2024).\n",
    "\n",
    "[3] I. Bobriakov, “Comparison of Top 6 Python NLP Libraries,” Medium, Jul. 14, 2018. https://medium.com/activewizards-machine-learning-company/comparison-of-top-6-python-nlp-libraries-c4ce160237eb (accessed Apr. 20, 2024).\n",
    "\n",
    "[4] S. Bird, “NLTK Book,” www.nltk.org. https://www.nltk.org/book (accessed Apr. 23, 2024).[5]M. Mogyorosi, “Sentiment Analysis: First Steps With Python’s NLTK Library – Real Python,” realpython.com, Jan. 13, 2021. https://realpython.com/python-nltk-sentiment-analysis/ (accessed Apr. 20, 2024).\n",
    "\n",
    "[6] I. Muzaffar, “Text Summarization in spaCy and NLTK,” Educative. https://www.educative.io/answers/text-summarization-in-spacy-and-nltk (accessed Apr. 20, 2024).\n",
    "\n",
    "[7] Hutto, C.J. & Gilbert, E.E. (2014). VADER: A Parsimonious Rule-based Model forSentiment Analysis of Social Media Text. Eighth International Conference onWeblogs and Social Media (ICWSM-14). Ann Arbor, MI, June 2014. "
   ]
  }
 ],
 "metadata": {
  "kernelspec": {
   "display_name": "Python 3",
   "language": "python",
   "name": "python3"
  },
  "language_info": {
   "codemirror_mode": {
    "name": "ipython",
    "version": 3
   },
   "file_extension": ".py",
   "mimetype": "text/x-python",
   "name": "python",
   "nbconvert_exporter": "python",
   "pygments_lexer": "ipython3",
   "version": "3.10.0"
  }
 },
 "nbformat": 4,
 "nbformat_minor": 2
}
